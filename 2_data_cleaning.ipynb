{
 "cells": [
  {
   "cell_type": "code",
   "execution_count": 1,
   "metadata": {},
   "outputs": [],
   "source": [
    "import pandas as pd\n",
    "import numpy as np\n",
    "import dask.dataframe as dd\n",
    "import sys\n",
    "import datetime\n",
    "import seaborn as sns\n",
    "import matplotlib.pyplot as plt"
   ]
  },
  {
   "cell_type": "code",
   "execution_count": 2,
   "metadata": {},
   "outputs": [],
   "source": [
    "trains = pd.read_pickle(\"all_trains.pickle\")"
   ]
  },
  {
   "cell_type": "code",
   "execution_count": 5,
   "metadata": {},
   "outputs": [],
   "source": [
    "trains[\"train_id\"] = trains[[\"origin\", \"destination\", \"departure\",\"arrival\"]].sum(axis=1)"
   ]
  },
  {
   "cell_type": "code",
   "execution_count": 6,
   "metadata": {},
   "outputs": [],
   "source": [
    "columns_to_select = [\n",
    "    \"train_id\",\n",
    "    \"departure\",\n",
    "    \"arrival\",\n",
    "    \"duration\",\n",
    "    \"vehicle_class\",\n",
    "    \"Turista_Promo +_seats\",\n",
    "    \"Turista_Promo +_price\",\n",
    "    \"insert_date\",\n",
    "    \"timedelta_till_dep\",\n",
    "    \"origin\",\n",
    "    \"destination\",\n",
    "]\n",
    "df = trains[columns_to_select]"
   ]
  },
  {
   "cell_type": "code",
   "execution_count": 37,
   "metadata": {},
   "outputs": [
    {
     "data": {
      "text/plain": [
       "Turista         2383553\n",
       "Turista Plus     244727\n",
       "Preferente       209424\n",
       "Name: vehicle_class, dtype: int64"
      ]
     },
     "execution_count": 37,
     "metadata": {},
     "output_type": "execute_result"
    }
   ],
   "source": [
    "trains[\"vehicle_class\"].value_counts()"
   ]
  },
  {
   "cell_type": "code",
   "execution_count": 35,
   "metadata": {},
   "outputs": [
    {
     "data": {
      "text/plain": [
       "array(['Turista'], dtype=object)"
      ]
     },
     "execution_count": 35,
     "metadata": {},
     "output_type": "execute_result"
    }
   ],
   "source": [
    "df[\"vehicle_class\"].unique()"
   ]
  },
  {
   "cell_type": "code",
   "execution_count": 36,
   "metadata": {},
   "outputs": [],
   "source": [
    "df = df[df[\"vehicle_class\"] == \"Turista\"]"
   ]
  },
  {
   "cell_type": "code",
   "execution_count": 11,
   "metadata": {},
   "outputs": [],
   "source": [
    "df[\"weekday\"] = df[\"departure\"].apply(\n",
    "    lambda x: datetime.datetime.strptime(x, \"%Y-%m-%d %H:%M:%S\").weekday()\n",
    ")\n",
    "df[\"depart_month\"] = df[\"departure\"].apply(\n",
    "    lambda x: datetime.datetime.strptime(x, \"%Y-%m-%d %H:%M:%S\").month\n",
    ")\n",
    "df[\"depart_hour\"] = df[\"departure\"].apply(\n",
    "    lambda x: datetime.datetime.strptime(x, \"%Y-%m-%d %H:%M:%S\").hour\n",
    ")"
   ]
  },
  {
   "cell_type": "code",
   "execution_count": 12,
   "metadata": {},
   "outputs": [],
   "source": [
    "df[\"depart_day\"] = df[\"departure\"].apply(\n",
    "    lambda x: datetime.datetime.strptime(x, \"%Y-%m-%d %H:%M:%S\").day\n",
    ")"
   ]
  },
  {
   "cell_type": "code",
   "execution_count": 13,
   "metadata": {},
   "outputs": [],
   "source": [
    "def stripstring(x):\n",
    "    x = x[:10]\n",
    "    return x"
   ]
  },
  {
   "cell_type": "code",
   "execution_count": 14,
   "metadata": {},
   "outputs": [],
   "source": [
    "df[\"insert_date_2\"] = df[\"insert_date\"].apply(lambda x: stripstring(x))"
   ]
  },
  {
   "cell_type": "code",
   "execution_count": 16,
   "metadata": {},
   "outputs": [],
   "source": [
    "df[\"insert_date_month\"] = df[\"insert_date_2\"].apply(\n",
    "    lambda x: str(datetime.datetime.strptime(x, \"%Y-%m-%d\").month)\n",
    ")\n",
    "df[\"insert_date_day\"] = df[\"insert_date_2\"].apply(\n",
    "    lambda x: str(datetime.datetime.strptime(x, \"%Y-%m-%d\").day)\n",
    ")"
   ]
  },
  {
   "cell_type": "code",
   "execution_count": 17,
   "metadata": {},
   "outputs": [],
   "source": [
    "def insert_month_day(month,day):\n",
    "    if len(day) == 1:\n",
    "        day = \"0\" + day\n",
    "    return month + day"
   ]
  },
  {
   "cell_type": "code",
   "execution_count": 18,
   "metadata": {},
   "outputs": [],
   "source": [
    "def add_0(day):\n",
    "    if len(day) == 1:\n",
    "        day = \"0\" + day\n",
    "    return day"
   ]
  },
  {
   "cell_type": "code",
   "execution_count": 19,
   "metadata": {},
   "outputs": [
    {
     "data": {
      "text/plain": [
       "'210'"
      ]
     },
     "execution_count": 19,
     "metadata": {},
     "output_type": "execute_result"
    }
   ],
   "source": [
    "insert_month_day(\"2\", \"10\")"
   ]
  },
  {
   "cell_type": "code",
   "execution_count": 20,
   "metadata": {},
   "outputs": [],
   "source": [
    "df[\"insert_date_day\"] = df[\"insert_date_day\"].apply(add_0)\n"
   ]
  },
  {
   "cell_type": "code",
   "execution_count": 21,
   "metadata": {},
   "outputs": [
    {
     "data": {
      "text/plain": [
       "array(['29', '30', '31', '01', '02', '03', '04', '05', '06', '07', '08',\n",
       "       '09', '10', '11', '12', '13', '14', '15', '16', '17', '18', '19',\n",
       "       '20', '21', '22', '23', '24', '25', '26', '27', '28'], dtype=object)"
      ]
     },
     "execution_count": 21,
     "metadata": {},
     "output_type": "execute_result"
    }
   ],
   "source": [
    "df[\"insert_date_day\"].unique()"
   ]
  },
  {
   "cell_type": "code",
   "execution_count": 22,
   "metadata": {},
   "outputs": [
    {
     "data": {
      "text/plain": [
       "0          129\n",
       "1          129\n",
       "2          129\n",
       "3          129\n",
       "4          129\n",
       "          ... \n",
       "2837699    331\n",
       "2837700    331\n",
       "2837701    331\n",
       "2837702    331\n",
       "2837703    331\n",
       "Name: insert_month_day, Length: 2383553, dtype: object"
      ]
     },
     "execution_count": 22,
     "metadata": {},
     "output_type": "execute_result"
    }
   ],
   "source": [
    "df[\"insert_month_day\"] = df[\"insert_date_month\"] + df[\"insert_date_day\"]\n",
    "df[\"insert_month_day\"].unique()"
   ]
  },
  {
   "cell_type": "code",
   "execution_count": 24,
   "metadata": {},
   "outputs": [
    {
     "data": {
      "text/plain": [
       "Index(['train_id', 'departure', 'arrival', 'duration', 'vehicle_class',\n",
       "       'Turista_Promo +_seats', 'Turista_Promo +_price', 'insert_date',\n",
       "       'timedelta_till_dep', 'origin', 'destination', 'weekday',\n",
       "       'depart_month', 'depart_hour', 'depart_day', 'insert_date_2',\n",
       "       'insert_date_month', 'insert_date_day', 'insert_month_day'],\n",
       "      dtype='object')"
      ]
     },
     "execution_count": 24,
     "metadata": {},
     "output_type": "execute_result"
    }
   ],
   "source": [
    "df.columns"
   ]
  },
  {
   "cell_type": "code",
   "execution_count": 25,
   "metadata": {},
   "outputs": [],
   "source": [
    "data = (\n",
    "    df.groupby([\"train_id\",\"insert_month_day\"])\n",
    "    .agg(\n",
    "        mean_econ_price=(\"Turista_Promo +_price\", np.nanmean),\n",
    "        max_econ_seats=(\"Turista_Promo +_seats\", max),\n",
    "        min_econ_seats=(\"Turista_Promo +_seats\", min),\n",
    "        mean_econ_seats=(\"Turista_Promo +_seats\", \"mean\"),\n",
    "        depart_month=(\"depart_month\",\"first\"),\n",
    "        depart_day=(\"depart_day\", \"first\"),\n",
    "        depart_hour=(\"depart_hour\", \"first\"),\n",
    "        insert_date = (\"insert_date_2\", \"first\"),\n",
    "        departure = (\"departure\",\"first\"),\n",
    "        origin = (\"origin\",\"first\"),\n",
    "        destination = (\"destination\",\"first\"),\n",
    "    )\n",
    "    .reset_index()\n",
    ")"
   ]
  },
  {
   "cell_type": "code",
   "execution_count": 27,
   "metadata": {},
   "outputs": [
    {
     "data": {
      "text/plain": [
       "(259763, 13)"
      ]
     },
     "execution_count": 27,
     "metadata": {},
     "output_type": "execute_result"
    }
   ],
   "source": [
    "data.shape"
   ]
  },
  {
   "cell_type": "code",
   "execution_count": 28,
   "metadata": {},
   "outputs": [
    {
     "data": {
      "text/plain": [
       "10590"
      ]
     },
     "execution_count": 28,
     "metadata": {},
     "output_type": "execute_result"
    }
   ],
   "source": [
    "data[\"train_id\"].nunique()"
   ]
  },
  {
   "cell_type": "code",
   "execution_count": 29,
   "metadata": {},
   "outputs": [],
   "source": [
    "data = data[data['mean_econ_seats'].notna()]"
   ]
  },
  {
   "cell_type": "code",
   "execution_count": 30,
   "metadata": {},
   "outputs": [
    {
     "data": {
      "text/plain": [
       "7596"
      ]
     },
     "execution_count": 30,
     "metadata": {},
     "output_type": "execute_result"
    }
   ],
   "source": [
    "data[\"train_id\"].nunique()"
   ]
  },
  {
   "cell_type": "code",
   "execution_count": 31,
   "metadata": {},
   "outputs": [
    {
     "data": {
      "text/plain": [
       "array(['221', '222', '223', '225', '226', '227', '228', '229', '301',\n",
       "       '302', '303', '304', '305', '306', '307', '308', '309', '310',\n",
       "       '311', '312', '313', '314', '315', '220', '206', '207', '208',\n",
       "       '209', '210', '211', '212', '213', '214', '215', '216', '217',\n",
       "       '218', '219', '224'], dtype=object)"
      ]
     },
     "execution_count": 31,
     "metadata": {},
     "output_type": "execute_result"
    }
   ],
   "source": [
    "data[\"insert_month_day\"].unique()"
   ]
  },
  {
   "cell_type": "code",
   "execution_count": 33,
   "metadata": {},
   "outputs": [
    {
     "data": {
      "text/html": [
       "<div>\n",
       "<style scoped>\n",
       "    .dataframe tbody tr th:only-of-type {\n",
       "        vertical-align: middle;\n",
       "    }\n",
       "\n",
       "    .dataframe tbody tr th {\n",
       "        vertical-align: top;\n",
       "    }\n",
       "\n",
       "    .dataframe thead th {\n",
       "        text-align: right;\n",
       "    }\n",
       "</style>\n",
       "<table border=\"1\" class=\"dataframe\">\n",
       "  <thead>\n",
       "    <tr style=\"text-align: right;\">\n",
       "      <th></th>\n",
       "      <th>train_id</th>\n",
       "      <th>insert_month_day</th>\n",
       "      <th>mean_econ_price</th>\n",
       "      <th>max_econ_seats</th>\n",
       "      <th>min_econ_seats</th>\n",
       "      <th>mean_econ_seats</th>\n",
       "      <th>depart_month</th>\n",
       "      <th>depart_day</th>\n",
       "      <th>depart_hour</th>\n",
       "      <th>insert_date</th>\n",
       "      <th>departure</th>\n",
       "      <th>origin</th>\n",
       "      <th>destination</th>\n",
       "    </tr>\n",
       "  </thead>\n",
       "  <tbody>\n",
       "    <tr>\n",
       "      <th>0</th>\n",
       "      <td>ALBACETEMADRID2020-03-02 08:05:002020-03-02 09...</td>\n",
       "      <td>221</td>\n",
       "      <td>38.2</td>\n",
       "      <td>171.0</td>\n",
       "      <td>171.0</td>\n",
       "      <td>171.000000</td>\n",
       "      <td>3</td>\n",
       "      <td>2</td>\n",
       "      <td>8</td>\n",
       "      <td>2020-02-21</td>\n",
       "      <td>2020-03-02 08:05:00</td>\n",
       "      <td>ALBACETE</td>\n",
       "      <td>MADRID</td>\n",
       "    </tr>\n",
       "    <tr>\n",
       "      <th>1</th>\n",
       "      <td>ALBACETEMADRID2020-03-02 08:05:002020-03-02 09...</td>\n",
       "      <td>222</td>\n",
       "      <td>38.2</td>\n",
       "      <td>171.0</td>\n",
       "      <td>166.0</td>\n",
       "      <td>168.181818</td>\n",
       "      <td>3</td>\n",
       "      <td>2</td>\n",
       "      <td>8</td>\n",
       "      <td>2020-02-22</td>\n",
       "      <td>2020-03-02 08:05:00</td>\n",
       "      <td>ALBACETE</td>\n",
       "      <td>MADRID</td>\n",
       "    </tr>\n",
       "  </tbody>\n",
       "</table>\n",
       "</div>"
      ],
      "text/plain": [
       "                                            train_id insert_month_day  \\\n",
       "0  ALBACETEMADRID2020-03-02 08:05:002020-03-02 09...              221   \n",
       "1  ALBACETEMADRID2020-03-02 08:05:002020-03-02 09...              222   \n",
       "\n",
       "   mean_econ_price  max_econ_seats  min_econ_seats  mean_econ_seats  \\\n",
       "0             38.2           171.0           171.0       171.000000   \n",
       "1             38.2           171.0           166.0       168.181818   \n",
       "\n",
       "   depart_month  depart_day  depart_hour insert_date            departure  \\\n",
       "0             3           2            8  2020-02-21  2020-03-02 08:05:00   \n",
       "1             3           2            8  2020-02-22  2020-03-02 08:05:00   \n",
       "\n",
       "     origin destination  \n",
       "0  ALBACETE      MADRID  \n",
       "1  ALBACETE      MADRID  "
      ]
     },
     "execution_count": 33,
     "metadata": {},
     "output_type": "execute_result"
    }
   ],
   "source": [
    "data.head(2)"
   ]
  },
  {
   "cell_type": "code",
   "execution_count": 40,
   "metadata": {},
   "outputs": [
    {
     "name": "stderr",
     "output_type": "stream",
     "text": [
      "C:\\Users\\Velkey Artúr\\AppData\\Local\\Temp\\ipykernel_4796\\3963774062.py:1: SettingWithCopyWarning: \n",
      "A value is trying to be set on a copy of a slice from a DataFrame.\n",
      "Try using .loc[row_indexer,col_indexer] = value instead\n",
      "\n",
      "See the caveats in the documentation: https://pandas.pydata.org/pandas-docs/stable/user_guide/indexing.html#returning-a-view-versus-a-copy\n",
      "  data[\"price_change\"] = (\n",
      "C:\\Users\\Velkey Artúr\\AppData\\Local\\Temp\\ipykernel_4796\\3963774062.py:7: SettingWithCopyWarning: \n",
      "A value is trying to be set on a copy of a slice from a DataFrame.\n",
      "Try using .loc[row_indexer,col_indexer] = value instead\n",
      "\n",
      "See the caveats in the documentation: https://pandas.pydata.org/pandas-docs/stable/user_guide/indexing.html#returning-a-view-versus-a-copy\n",
      "  data[\"price_change_percentage\"] = (data[\"price_change\"] / data[\"mean_econ_price\"]).round(3)\n",
      "C:\\Users\\Velkey Artúr\\AppData\\Local\\Temp\\ipykernel_4796\\3963774062.py:9: SettingWithCopyWarning: \n",
      "A value is trying to be set on a copy of a slice from a DataFrame.\n",
      "Try using .loc[row_indexer,col_indexer] = value instead\n",
      "\n",
      "See the caveats in the documentation: https://pandas.pydata.org/pandas-docs/stable/user_guide/indexing.html#returning-a-view-versus-a-copy\n",
      "  data[\"price_change_direction\"] = np.where(\n",
      "C:\\Users\\Velkey Artúr\\AppData\\Local\\Temp\\ipykernel_4796\\3963774062.py:15: SettingWithCopyWarning: \n",
      "A value is trying to be set on a copy of a slice from a DataFrame.\n",
      "Try using .loc[row_indexer,col_indexer] = value instead\n",
      "\n",
      "See the caveats in the documentation: https://pandas.pydata.org/pandas-docs/stable/user_guide/indexing.html#returning-a-view-versus-a-copy\n",
      "  data[\"price_increase\"] = np.where(data[\"price_change_direction\"] == 1, True, False)\n",
      "C:\\Users\\Velkey Artúr\\AppData\\Local\\Temp\\ipykernel_4796\\3963774062.py:16: SettingWithCopyWarning: \n",
      "A value is trying to be set on a copy of a slice from a DataFrame.\n",
      "Try using .loc[row_indexer,col_indexer] = value instead\n",
      "\n",
      "See the caveats in the documentation: https://pandas.pydata.org/pandas-docs/stable/user_guide/indexing.html#returning-a-view-versus-a-copy\n",
      "  data[\"price_decrease\"] = np.where(data[\"price_change_direction\"] == -1, True, False)\n"
     ]
    }
   ],
   "source": [
    "data[\"price_change\"] = (\n",
    "    data.sort_values(by=[\"train_id\", \"insert_date\"], ascending=True)\n",
    "    .groupby(\"train_id\")[\"mean_econ_price\"]\n",
    "    .transform(\"diff\")\n",
    ")\n",
    "\n",
    "data[\"price_change_percentage\"] = (data[\"price_change\"] / data[\"mean_econ_price\"]).round(3)\n",
    "\n",
    "data[\"price_change_direction\"] = np.where(\n",
    "    data[\"price_change_percentage\"] > 0,\n",
    "    1,\n",
    "    np.where(data[\"price_change_percentage\"] < 0, -1, 0),\n",
    ")\n",
    "\n",
    "data[\"price_increase\"] = np.where(data[\"price_change_direction\"] == 1, True, False)\n",
    "data[\"price_decrease\"] = np.where(data[\"price_change_direction\"] == -1, True, False)"
   ]
  },
  {
   "cell_type": "code",
   "execution_count": 41,
   "metadata": {},
   "outputs": [
    {
     "name": "stderr",
     "output_type": "stream",
     "text": [
      "C:\\Users\\Velkey Artúr\\AppData\\Local\\Temp\\ipykernel_4796\\4190282701.py:1: SettingWithCopyWarning: \n",
      "A value is trying to be set on a copy of a slice from a DataFrame.\n",
      "Try using .loc[row_indexer,col_indexer] = value instead\n",
      "\n",
      "See the caveats in the documentation: https://pandas.pydata.org/pandas-docs/stable/user_guide/indexing.html#returning-a-view-versus-a-copy\n",
      "  data[\"seats_sold\"] = abs((\n"
     ]
    }
   ],
   "source": [
    "data[\"seats_sold\"] = abs((\n",
    "    data.sort_values(by=[\"train_id\", \"insert_date\"], ascending=True)\n",
    "    .groupby(\"train_id\")[\"mean_econ_seats\"]\n",
    "    .transform(\"diff\")\n",
    "))"
   ]
  },
  {
   "cell_type": "code",
   "execution_count": 42,
   "metadata": {},
   "outputs": [
    {
     "data": {
      "text/plain": [
       "False    151918\n",
       "True      14131\n",
       "Name: price_increase, dtype: int64"
      ]
     },
     "execution_count": 42,
     "metadata": {},
     "output_type": "execute_result"
    }
   ],
   "source": [
    "data[\"price_increase\"].value_counts()"
   ]
  },
  {
   "cell_type": "code",
   "execution_count": 43,
   "metadata": {},
   "outputs": [
    {
     "name": "stderr",
     "output_type": "stream",
     "text": [
      "C:\\Users\\Velkey Artúr\\AppData\\Local\\Temp\\ipykernel_4796\\4007202796.py:1: SettingWithCopyWarning: \n",
      "A value is trying to be set on a copy of a slice from a DataFrame.\n",
      "Try using .loc[row_indexer,col_indexer] = value instead\n",
      "\n",
      "See the caveats in the documentation: https://pandas.pydata.org/pandas-docs/stable/user_guide/indexing.html#returning-a-view-versus-a-copy\n",
      "  data[\"depart_monthday\"] = data[\"departure\"].apply(lambda date: date[5:10])\n"
     ]
    }
   ],
   "source": [
    "data[\"depart_monthday\"] = data[\"departure\"].apply(lambda date: date[5:10])"
   ]
  },
  {
   "cell_type": "code",
   "execution_count": 44,
   "metadata": {},
   "outputs": [],
   "source": [
    "dfs = [\n",
    "    x\n",
    "    for _, x in data[data[\"insert_month_day\"] != \"206\"].groupby(\n",
    "        [\"insert_month_day\", \"depart_monthday\", \"origin\", \"destination\"]\n",
    "    )\n",
    "]"
   ]
  },
  {
   "cell_type": "code",
   "execution_count": 48,
   "metadata": {},
   "outputs": [],
   "source": [
    "from tqdm.notebook import tqdm"
   ]
  },
  {
   "cell_type": "code",
   "execution_count": 49,
   "metadata": {},
   "outputs": [
    {
     "data": {
      "application/vnd.jupyter.widget-view+json": {
       "model_id": "c0833a62850e4c208834be8a5c542b1e",
       "version_major": 2,
       "version_minor": 0
      },
      "text/plain": [
       "  0%|          | 0/22335 [00:00<?, ?it/s]"
      ]
     },
     "metadata": {},
     "output_type": "display_data"
    }
   ],
   "source": [
    "for i in tqdm(dfs):\n",
    "    number_lags = 1\n",
    "    for lag in range(1, number_lags + 1):\n",
    "        i[\"seats_sold_lag\" + str(lag)] = i.seats_sold.shift(lag)\n",
    "        i[\"pair_\" + str(lag)] = i.train_id.shift(lag)\n",
    "\n",
    "    number_lags_back = 1\n",
    "    for lag in range(1, number_lags_back + 1):\n",
    "        i[\"seats_sold_lag_backward\" + str(lag)] = i.seats_sold.shift(-lag)\n",
    "        i[\"pair_2\"] = i.train_id.shift(-lag)\n",
    "\n",
    "    i[\"prop_values\"] = i[\"seats_sold\"] / (\n",
    "        i[\"seats_sold\"]\n",
    "        + i[\"seats_sold_lag1\"].replace(np.nan, 0)\n",
    "        + i[\"seats_sold_lag_backward1\"].replace(np.nan, 0)\n",
    "    )"
   ]
  },
  {
   "cell_type": "code",
   "execution_count": 50,
   "metadata": {},
   "outputs": [],
   "source": [
    "teljes_data = pd.concat(dfs)"
   ]
  },
  {
   "cell_type": "code",
   "execution_count": 51,
   "metadata": {},
   "outputs": [
    {
     "data": {
      "text/plain": [
       "(163373, 25)"
      ]
     },
     "execution_count": 51,
     "metadata": {},
     "output_type": "execute_result"
    }
   ],
   "source": [
    "teljes_data.shape"
   ]
  },
  {
   "cell_type": "code",
   "execution_count": 117,
   "metadata": {},
   "outputs": [],
   "source": [
    "teljes_data.to_csv(\"data_with_prop_ext.csv\")"
   ]
  }
 ],
 "metadata": {
  "interpreter": {
   "hash": "7d01955457eaaf09029f6a3289bc10ea78fead2368d4f92e490381f22953eeb9"
  },
  "kernelspec": {
   "display_name": "Python 3 (ipykernel)",
   "language": "python",
   "name": "python3"
  },
  "language_info": {
   "codemirror_mode": {
    "name": "ipython",
    "version": 3
   },
   "file_extension": ".py",
   "mimetype": "text/x-python",
   "name": "python",
   "nbconvert_exporter": "python",
   "pygments_lexer": "ipython3",
   "version": "3.10.4"
  }
 },
 "nbformat": 4,
 "nbformat_minor": 2
}
