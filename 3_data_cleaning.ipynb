{
 "cells": [
  {
   "cell_type": "code",
   "execution_count": 1,
   "id": "f4877d77",
   "metadata": {},
   "outputs": [],
   "source": [
    "import pandas as pd\n",
    "import numpy as np\n",
    "import dask.dataframe as dd\n",
    "import sys\n",
    "import datetime\n",
    "import seaborn as sns\n",
    "import matplotlib.pyplot as plt\n",
    "import random as random"
   ]
  },
  {
   "cell_type": "code",
   "execution_count": 2,
   "id": "fe22a4a1",
   "metadata": {},
   "outputs": [],
   "source": [
    "df2 = pd.read_csv(\"data_with_prop_ext.csv\").iloc[:,1:]"
   ]
  },
  {
   "cell_type": "code",
   "execution_count": 3,
   "id": "beeb86ea",
   "metadata": {},
   "outputs": [
    {
     "data": {
      "text/plain": [
       "(163373, 25)"
      ]
     },
     "execution_count": 3,
     "metadata": {},
     "output_type": "execute_result"
    }
   ],
   "source": [
    " df2.shape"
   ]
  },
  {
   "cell_type": "code",
   "execution_count": 4,
   "id": "aedffc04",
   "metadata": {},
   "outputs": [],
   "source": [
    "insert_day_list = list(df2[\"insert_month_day\"].unique())"
   ]
  },
  {
   "cell_type": "code",
   "execution_count": 5,
   "id": "f9ae39c0",
   "metadata": {},
   "outputs": [],
   "source": [
    "group_id_df = (\n",
    "    df2.drop_duplicates(subset=\"train_id\")\n",
    "    .sort_values(by=\"train_id\")\n",
    "    .loc[:, [\"train_id\", \"pair_1\", \"pair_2\"]]\n",
    "    .dropna()\n",
    "    .assign(pair_0=lambda _df: _df[\"train_id\"])\n",
    "    .loc[:, [\"pair_0\", \"pair_1\", \"pair_2\"]]\n",
    "    .drop_duplicates()\n",
    "    .reset_index(drop=True)\n",
    ")"
   ]
  },
  {
   "cell_type": "code",
   "execution_count": 6,
   "id": "deb204a1",
   "metadata": {},
   "outputs": [
    {
     "data": {
      "text/plain": [
       "(5353, 3)"
      ]
     },
     "execution_count": 6,
     "metadata": {},
     "output_type": "execute_result"
    }
   ],
   "source": [
    "group_id_df.shape"
   ]
  },
  {
   "cell_type": "code",
   "execution_count": 7,
   "id": "6face93e",
   "metadata": {},
   "outputs": [],
   "source": [
    "group_id_df = pd.concat(\n",
    "    [\n",
    "        group_id_df,\n",
    "        pd.DataFrame({\"group_id_list_0\": [f\"{x}\" for x in range(1, 5354)]}),\n",
    "        pd.DataFrame({\"group_id_list_1\": [f\"{x}\" for x in range(1, 5354)]}),\n",
    "        pd.DataFrame({\"group_id_list_2\": [f\"{x}\" for x in range(1, 5354)]}),\n",
    "    ],\n",
    "    axis=1,\n",
    ")"
   ]
  },
  {
   "cell_type": "code",
   "execution_count": 8,
   "id": "17bc63db",
   "metadata": {},
   "outputs": [],
   "source": [
    "df2 = df2.loc[:,~df2.columns.isin([\"pair_1\",\"pair_2\"])]"
   ]
  },
  {
   "cell_type": "code",
   "execution_count": 9,
   "id": "d48020ee",
   "metadata": {},
   "outputs": [],
   "source": [
    "df_grouped = (\n",
    "    df2.merge(\n",
    "        group_id_df.loc[:, [\"group_id_list_0\", \"pair_0\"]].rename(columns = {\"pair_0\" : \"train_id\"}),\n",
    "        on=\"train_id\",\n",
    "        how=\"left\",\n",
    "    ).merge(\n",
    "        group_id_df.loc[:, [\"group_id_list_1\", \"pair_1\"]].rename(columns = {\"pair_1\" : \"train_id\"}),\n",
    "        on=\"train_id\",\n",
    "        how=\"left\"\n",
    "    ).merge(\n",
    "        group_id_df.loc[:, [\"group_id_list_2\", \"pair_2\"]].rename(columns = {\"pair_2\" : \"train_id\"}),\n",
    "        on=\"train_id\",\n",
    "        how=\"left\",\n",
    "    )\n",
    "    #.dropna()\n",
    "    #.loc[:, list(df.columns) + [\"group_id_list_0\", \" group_id_list_1\"]]\n",
    ")"
   ]
  },
  {
   "cell_type": "markdown",
   "id": "bcbc10d2",
   "metadata": {},
   "source": [
    "## Megcsináltam a jó grouping változót. Most pedig megnézzük egy adott group mentén az egész folyamatot"
   ]
  },
  {
   "cell_type": "code",
   "execution_count": 22,
   "id": "8da64fb3",
   "metadata": {},
   "outputs": [],
   "source": [
    "random_group = \"201\""
   ]
  },
  {
   "cell_type": "code",
   "execution_count": 23,
   "id": "800dede9",
   "metadata": {},
   "outputs": [],
   "source": [
    "df_group_rand = df_grouped.loc[\n",
    "    (\n",
    "        (df_grouped[\"group_id_list_0\"] == random_group)\n",
    "        | (df_grouped[\"group_id_list_1\"] == random_group)\n",
    "        | (df_grouped[\"group_id_list_2\"] == random_group)\n",
    "    )\n",
    "]"
   ]
  },
  {
   "cell_type": "code",
   "execution_count": 24,
   "id": "512fbb93",
   "metadata": {},
   "outputs": [],
   "source": [
    "df_rand_count = df_group_rand.drop_duplicates(subset = [\"train_id\",\"insert_month_day\"]).groupby(\"insert_month_day\").agg({\"train_id\" : \"count\"})"
   ]
  },
  {
   "cell_type": "code",
   "execution_count": 25,
   "id": "44e7aa02",
   "metadata": {},
   "outputs": [],
   "source": [
    "keep_insertday = df_rand_count.loc[lambda _df: _df[\"train_id\"] == 3,:].reset_index()[\"insert_month_day\"].to_list()"
   ]
  },
  {
   "cell_type": "code",
   "execution_count": 27,
   "id": "b10c945e",
   "metadata": {},
   "outputs": [],
   "source": [
    "df_group_rand = df_group_rand.loc[\n",
    "    lambda _df: _df[\"insert_month_day\"].isin(keep_insertday),\n",
    "    ~df_group_rand.columns.isin(\n",
    "        [\"group_id_list_1\", \"group_id_list_2\", \"group_id_list_0\"]\n",
    "    ),\n",
    "]"
   ]
  },
  {
   "cell_type": "code",
   "execution_count": 28,
   "id": "530771d6",
   "metadata": {},
   "outputs": [],
   "source": [
    "new_prop_df = df_group_rand.iloc[:,:-3]"
   ]
  },
  {
   "cell_type": "code",
   "execution_count": 29,
   "id": "42248202",
   "metadata": {},
   "outputs": [],
   "source": [
    "list_of_inserts = list(new_prop_df[\"insert_month_day\"].unique())"
   ]
  },
  {
   "cell_type": "code",
   "execution_count": 30,
   "id": "77615508",
   "metadata": {},
   "outputs": [],
   "source": [
    "replace_dict = {key:value for (key,value) in zip(insert_day_list, range(1,len(insert_day_list)+1))}"
   ]
  },
  {
   "cell_type": "code",
   "execution_count": 31,
   "id": "2df7083b",
   "metadata": {},
   "outputs": [],
   "source": [
    "def prop_values_count(data, list_of_insert_dates, i, replace_dict_):\n",
    "    return (\n",
    "    data.loc[lambda _df: _df[\"insert_month_day\"] == i].assign(\n",
    "        sum_sales=lambda _df: _df.loc[lambda __df: __df[\"insert_month_day\"] == i][\"seats_sold\"].sum(),\n",
    "        prop_sales = lambda _df: (_df[\"seats_sold\"] / _df[\"sum_sales\"]).replace(np.nan, 0),\n",
    "        group_treatment=lambda _df: True if _df[\"price_increase\"].sum() > 0 else False,\n",
    "        self_treatment = lambda _df: _df[\"price_increase\"]\n",
    "    ).drop(columns = [\"sum_sales\"]).replace(replace_dict).rename(columns = {\"insert_month_day\" : \"trend\"})\n",
    ")"
   ]
  },
  {
   "cell_type": "code",
   "execution_count": 32,
   "id": "b88df973",
   "metadata": {},
   "outputs": [
    {
     "data": {
      "text/html": [
       "<div>\n",
       "<style scoped>\n",
       "    .dataframe tbody tr th:only-of-type {\n",
       "        vertical-align: middle;\n",
       "    }\n",
       "\n",
       "    .dataframe tbody tr th {\n",
       "        vertical-align: top;\n",
       "    }\n",
       "\n",
       "    .dataframe thead th {\n",
       "        text-align: right;\n",
       "    }\n",
       "</style>\n",
       "<table border=\"1\" class=\"dataframe\">\n",
       "  <thead>\n",
       "    <tr style=\"text-align: right;\">\n",
       "      <th></th>\n",
       "      <th>train_id</th>\n",
       "      <th>trend</th>\n",
       "      <th>mean_econ_price</th>\n",
       "      <th>max_econ_seats</th>\n",
       "      <th>min_econ_seats</th>\n",
       "      <th>mean_econ_seats</th>\n",
       "      <th>depart_month</th>\n",
       "      <th>depart_day</th>\n",
       "      <th>depart_hour</th>\n",
       "      <th>insert_date</th>\n",
       "      <th>...</th>\n",
       "      <th>price_change</th>\n",
       "      <th>price_change_percentage</th>\n",
       "      <th>price_change_direction</th>\n",
       "      <th>price_increase</th>\n",
       "      <th>price_decrease</th>\n",
       "      <th>seats_sold</th>\n",
       "      <th>depart_monthday</th>\n",
       "      <th>prop_sales</th>\n",
       "      <th>group_treatment</th>\n",
       "      <th>self_treatment</th>\n",
       "    </tr>\n",
       "  </thead>\n",
       "  <tbody>\n",
       "  </tbody>\n",
       "</table>\n",
       "<p>0 rows × 23 columns</p>\n",
       "</div>"
      ],
      "text/plain": [
       "Empty DataFrame\n",
       "Columns: [train_id, trend, mean_econ_price, max_econ_seats, min_econ_seats, mean_econ_seats, depart_month, depart_day, depart_hour, insert_date, departure, origin, destination, price_change, price_change_percentage, price_change_direction, price_increase, price_decrease, seats_sold, depart_monthday, prop_sales, group_treatment, self_treatment]\n",
       "Index: []\n",
       "\n",
       "[0 rows x 23 columns]"
      ]
     },
     "execution_count": 32,
     "metadata": {},
     "output_type": "execute_result"
    }
   ],
   "source": [
    "prop_values_count(new_prop_df, list_of_inserts, 4251, replace_dict)"
   ]
  },
  {
   "cell_type": "code",
   "execution_count": 33,
   "id": "aa6b0594",
   "metadata": {},
   "outputs": [],
   "source": [
    "dfs = [prop_values_count(new_prop_df, list_of_inserts, x, replace_dict) for x in list_of_inserts]"
   ]
  },
  {
   "cell_type": "code",
   "execution_count": 34,
   "id": "57cb2c3a",
   "metadata": {},
   "outputs": [],
   "source": [
    "new_rand_grouped_df = pd.concat(dfs)"
   ]
  },
  {
   "cell_type": "markdown",
   "id": "7d89ed97",
   "metadata": {},
   "source": [
    "## Most az előzőeket meg kell csinálni mindegyik groupra"
   ]
  },
  {
   "cell_type": "code",
   "execution_count": 35,
   "id": "b49fc3d3",
   "metadata": {},
   "outputs": [
    {
     "data": {
      "text/plain": [
       "5353.0"
      ]
     },
     "execution_count": 35,
     "metadata": {},
     "output_type": "execute_result"
    }
   ],
   "source": [
    "df_grouped[\"group_id_list_0\"].astype(float).max()"
   ]
  },
  {
   "cell_type": "code",
   "execution_count": 36,
   "id": "aea375ad",
   "metadata": {},
   "outputs": [],
   "source": [
    "group_list = [str(x) for x in range(1,5354)]"
   ]
  },
  {
   "cell_type": "code",
   "execution_count": 37,
   "id": "72ea166c",
   "metadata": {},
   "outputs": [
    {
     "data": {
      "text/plain": [
       "'5353'"
      ]
     },
     "execution_count": 37,
     "metadata": {},
     "output_type": "execute_result"
    }
   ],
   "source": [
    "group_list[5352]"
   ]
  },
  {
   "cell_type": "code",
   "execution_count": 39,
   "id": "e9aefe45",
   "metadata": {},
   "outputs": [],
   "source": [
    "from tqdm.notebook import tqdm"
   ]
  },
  {
   "cell_type": "code",
   "execution_count": 40,
   "id": "5c4aded9",
   "metadata": {},
   "outputs": [
    {
     "data": {
      "application/vnd.jupyter.widget-view+json": {
       "model_id": "f8271a89062249278f4b178ba501a364",
       "version_major": 2,
       "version_minor": 0
      },
      "text/plain": [
       "  0%|          | 0/5353 [00:00<?, ?it/s]"
      ]
     },
     "metadata": {},
     "output_type": "display_data"
    }
   ],
   "source": [
    "dataframes = []\n",
    "for group in tqdm(group_list):\n",
    "    # print(group)\n",
    "    df_group = df_grouped.loc[\n",
    "        (\n",
    "            (df_grouped[\"group_id_list_0\"] == group)\n",
    "            | (df_grouped[\"group_id_list_1\"] == group)\n",
    "            | (df_grouped[\"group_id_list_2\"] == group)\n",
    "        )\n",
    "    ]\n",
    "    df_rand_count = (\n",
    "        df_group.drop_duplicates(subset=[\"train_id\", \"insert_month_day\"])\n",
    "        .groupby(\"insert_month_day\")\n",
    "        .agg({\"train_id\": \"count\"})\n",
    "        .reset_index()\n",
    "    )\n",
    "    keep_insertday = df_rand_count.loc[lambda _df: _df[\"train_id\"] == 3, :][\n",
    "        \"insert_month_day\"\n",
    "    ].to_list()\n",
    "\n",
    "    new_prop_df = df_group.loc[\n",
    "        lambda _df: _df[\"insert_month_day\"].isin(keep_insertday),\n",
    "        ~df_group.columns.isin(\n",
    "            [\"group_id_list_1\", \"group_id_list_2\", \"group_id_list_0\"]\n",
    "        ),\n",
    "    ].iloc[:, :-3]\n",
    "\n",
    "    list_of_inserts = list(new_prop_df[\"insert_month_day\"].unique())\n",
    "\n",
    "    dfs_bygroup = [\n",
    "        prop_values_count(new_prop_df, list_of_inserts, x, replace_dict)\n",
    "        for x in list_of_inserts\n",
    "    ]\n",
    "    dataframes.append(pd.concat(dfs_bygroup))"
   ]
  },
  {
   "cell_type": "code",
   "execution_count": 41,
   "id": "a3c72442",
   "metadata": {},
   "outputs": [
    {
     "data": {
      "text/plain": [
       "5353"
      ]
     },
     "execution_count": 41,
     "metadata": {},
     "output_type": "execute_result"
    }
   ],
   "source": [
    "len(dataframes)"
   ]
  },
  {
   "cell_type": "code",
   "execution_count": 42,
   "id": "e3d679e7",
   "metadata": {},
   "outputs": [],
   "source": [
    "index_range = range(len(dataframes))\n",
    "\n",
    "df_dict = {index : frame for (index, frame) in zip(index_range,dataframes )}"
   ]
  },
  {
   "cell_type": "markdown",
   "id": "1548c710",
   "metadata": {},
   "source": [
    "## Treatment indicator making"
   ]
  },
  {
   "cell_type": "code",
   "execution_count": 43,
   "id": "d3b88b0a",
   "metadata": {},
   "outputs": [],
   "source": [
    "import altair as alt"
   ]
  },
  {
   "cell_type": "code",
   "execution_count": 44,
   "id": "975b6b93",
   "metadata": {},
   "outputs": [],
   "source": [
    "test_df = df_dict[250]"
   ]
  },
  {
   "cell_type": "code",
   "execution_count": 45,
   "id": "13eb14a9",
   "metadata": {
    "scrolled": false
   },
   "outputs": [],
   "source": [
    "test_df[\"group_treatment\"] = test_df[\"group_treatment\"].replace({True : 1, False : 0})\n",
    "test_df[\"self_treatment\"] = test_df[\"self_treatment\"].replace({True : 1, False : 0})\n",
    "test_df = test_df.assign(treatment_in_period = lambda _df: _df[\"group_treatment\"] + _df[\"self_treatment\"])\n",
    "test_df[\"treatment_in_period\"] = test_df[\"treatment_in_period\"].replace(2,0)"
   ]
  },
  {
   "cell_type": "code",
   "execution_count": 47,
   "id": "5970c8d1",
   "metadata": {},
   "outputs": [],
   "source": [
    "price_evolution = (\n",
    "    alt.Chart(test_df)\n",
    "    .mark_line()\n",
    "    .encode(\n",
    "        x=\"trend\",\n",
    "        y=\"mean_econ_price\",\n",
    "        color=\"train_id\",\n",
    "        strokeDash=\"train_id\",\n",
    "    )\n",
    "    .properties(height = 300, width = 250)\n",
    "    .interactive()\n",
    ")\n",
    "seat_evolution = (\n",
    "    alt.Chart(test_df)\n",
    "    .mark_line()\n",
    "    .encode(\n",
    "        x=\"trend\",\n",
    "        y=\"mean_econ_seats\",\n",
    "        color=\"train_id\",\n",
    "        strokeDash=\"train_id\",\n",
    "    )\n",
    "    .properties(height = 300, width = 250)\n",
    "    .interactive()\n",
    ")\n",
    "\n",
    "vertline_1 = alt.Chart().mark_rule(strokeDash = [1,3]).encode(\n",
    "    x='a:Q'\n",
    ")\n",
    "vertline_2 = alt.Chart().mark_rule(strokeDash = [1,3]).encode(\n",
    "    x='b:Q'\n",
    ")\n",
    "vertline_3 = alt.Chart().mark_rule(strokeDash = [1,3]).encode(\n",
    "    x='c:Q'\n",
    ")\n",
    "\n",
    "vertline_4 = alt.Chart().mark_rule(strokeDash = [1,3]).encode(\n",
    "    x='d:Q'\n",
    ")\n",
    "seat_line_evolution = (\n",
    "    alt.layer(seat_evolution, vertline_1, vertline_2, data=test_df)\n",
    "    .transform_calculate(a=\"4\",b = \"19\")\n",
    "    .facet(row=\"site\")\n",
    ")\n",
    "\n",
    "price_line_evolution = (\n",
    "    alt.layer(price_evolution, vertline_3, vertline_4, data=test_df)\n",
    "    .transform_calculate(c = \"4\", d = \"19\")\n",
    "    .facet(row=\"site\")\n",
    ")"
   ]
  },
  {
   "cell_type": "code",
   "execution_count": 48,
   "id": "2fde1980",
   "metadata": {
    "scrolled": true
   },
   "outputs": [
    {
     "data": {
      "text/html": [
       "\n",
       "<div id=\"altair-viz-9aef51b78a274ff488e817c6c4311f09\"></div>\n",
       "<script type=\"text/javascript\">\n",
       "  var VEGA_DEBUG = (typeof VEGA_DEBUG == \"undefined\") ? {} : VEGA_DEBUG;\n",
       "  (function(spec, embedOpt){\n",
       "    let outputDiv = document.currentScript.previousElementSibling;\n",
       "    if (outputDiv.id !== \"altair-viz-9aef51b78a274ff488e817c6c4311f09\") {\n",
       "      outputDiv = document.getElementById(\"altair-viz-9aef51b78a274ff488e817c6c4311f09\");\n",
       "    }\n",
       "    const paths = {\n",
       "      \"vega\": \"https://cdn.jsdelivr.net/npm//vega@5?noext\",\n",
       "      \"vega-lib\": \"https://cdn.jsdelivr.net/npm//vega-lib?noext\",\n",
       "      \"vega-lite\": \"https://cdn.jsdelivr.net/npm//vega-lite@4.17.0?noext\",\n",
       "      \"vega-embed\": \"https://cdn.jsdelivr.net/npm//vega-embed@6?noext\",\n",
       "    };\n",
       "\n",
       "    function maybeLoadScript(lib, version) {\n",
       "      var key = `${lib.replace(\"-\", \"\")}_version`;\n",
       "      return (VEGA_DEBUG[key] == version) ?\n",
       "        Promise.resolve(paths[lib]) :\n",
       "        new Promise(function(resolve, reject) {\n",
       "          var s = document.createElement('script');\n",
       "          document.getElementsByTagName(\"head\")[0].appendChild(s);\n",
       "          s.async = true;\n",
       "          s.onload = () => {\n",
       "            VEGA_DEBUG[key] = version;\n",
       "            return resolve(paths[lib]);\n",
       "          };\n",
       "          s.onerror = () => reject(`Error loading script: ${paths[lib]}`);\n",
       "          s.src = paths[lib];\n",
       "        });\n",
       "    }\n",
       "\n",
       "    function showError(err) {\n",
       "      outputDiv.innerHTML = `<div class=\"error\" style=\"color:red;\">${err}</div>`;\n",
       "      throw err;\n",
       "    }\n",
       "\n",
       "    function displayChart(vegaEmbed) {\n",
       "      vegaEmbed(outputDiv, spec, embedOpt)\n",
       "        .catch(err => showError(`Javascript Error: ${err.message}<br>This usually means there's a typo in your chart specification. See the javascript console for the full traceback.`));\n",
       "    }\n",
       "\n",
       "    if(typeof define === \"function\" && define.amd) {\n",
       "      requirejs.config({paths});\n",
       "      require([\"vega-embed\"], displayChart, err => showError(`Error loading script: ${err.message}`));\n",
       "    } else {\n",
       "      maybeLoadScript(\"vega\", \"5\")\n",
       "        .then(() => maybeLoadScript(\"vega-lite\", \"4.17.0\"))\n",
       "        .then(() => maybeLoadScript(\"vega-embed\", \"6\"))\n",
       "        .catch(showError)\n",
       "        .then(() => displayChart(vegaEmbed));\n",
       "    }\n",
       "  })({\"config\": {\"view\": {\"continuousWidth\": 400, \"continuousHeight\": 300}}, \"hconcat\": [{\"mark\": \"line\", \"encoding\": {\"color\": {\"field\": \"train_id\", \"type\": \"nominal\"}, \"strokeDash\": {\"field\": \"train_id\", \"type\": \"nominal\"}, \"x\": {\"field\": \"trend\", \"type\": \"quantitative\"}, \"y\": {\"field\": \"mean_econ_price\", \"type\": \"quantitative\"}}, \"height\": 300, \"selection\": {\"selector002\": {\"type\": \"interval\", \"bind\": \"scales\", \"encodings\": [\"x\", \"y\"]}}, \"width\": 250}, {\"facet\": {\"row\": {\"field\": \"site\"}}, \"spec\": {\"layer\": [{\"mark\": \"line\", \"encoding\": {\"color\": {\"field\": \"train_id\", \"type\": \"nominal\"}, \"strokeDash\": {\"field\": \"train_id\", \"type\": \"nominal\"}, \"x\": {\"field\": \"trend\", \"type\": \"quantitative\"}, \"y\": {\"field\": \"mean_econ_seats\", \"type\": \"quantitative\"}}, \"height\": 300, \"selection\": {\"selector003\": {\"type\": \"interval\", \"bind\": \"scales\", \"encodings\": [\"x\", \"y\"]}}, \"width\": 250}, {\"mark\": {\"type\": \"rule\", \"strokeDash\": [1, 3]}, \"encoding\": {\"x\": {\"field\": \"a\", \"type\": \"quantitative\"}}}, {\"mark\": {\"type\": \"rule\", \"strokeDash\": [1, 3]}, \"encoding\": {\"x\": {\"field\": \"b\", \"type\": \"quantitative\"}}}], \"transform\": [{\"calculate\": \"4\", \"as\": \"a\"}, {\"calculate\": \"19\", \"as\": \"b\"}]}}], \"data\": {\"name\": \"data-9304db47e4e4df3e6154b790a288f793\"}, \"$schema\": \"https://vega.github.io/schema/vega-lite/v4.17.0.json\", \"datasets\": {\"data-9304db47e4e4df3e6154b790a288f793\": [{\"train_id\": \"ALICANTEMADRID2020-03-26 07:14:002020-03-26 09:35:00\", \"trend\": 15, \"mean_econ_price\": 55.7, \"max_econ_seats\": 254.0, \"min_econ_seats\": 254.0, \"mean_econ_seats\": 254.0, \"depart_month\": 3, \"depart_day\": 26, \"depart_hour\": 7, \"insert_date\": \"2020-02-21\", \"departure\": \"2020-03-26 07:14:00\", \"origin\": \"ALICANTE\", \"destination\": \"MADRID\", \"price_change\": null, \"price_change_percentage\": null, \"price_change_direction\": 0, \"price_increase\": false, \"price_decrease\": false, \"seats_sold\": null, \"depart_monthday\": \"03-26\", \"prop_sales\": 0.0, \"group_treatment\": 0, \"self_treatment\": 0, \"treatment_in_period\": 0}, {\"train_id\": \"ALICANTEMADRID2020-03-26 08:34:002020-03-26 11:10:00\", \"trend\": 15, \"mean_econ_price\": 39.1, \"max_econ_seats\": 237.0, \"min_econ_seats\": 237.0, \"mean_econ_seats\": 237.0, \"depart_month\": 3, \"depart_day\": 26, \"depart_hour\": 8, \"insert_date\": \"2020-02-21\", \"departure\": \"2020-03-26 08:34:00\", \"origin\": \"ALICANTE\", \"destination\": \"MADRID\", \"price_change\": null, \"price_change_percentage\": null, \"price_change_direction\": 0, \"price_increase\": false, \"price_decrease\": false, \"seats_sold\": null, \"depart_monthday\": \"03-26\", \"prop_sales\": 0.0, \"group_treatment\": 0, \"self_treatment\": 0, \"treatment_in_period\": 0}, {\"train_id\": \"ALICANTEMADRID2020-03-26 09:40:002020-03-26 12:11:00\", \"trend\": 15, \"mean_econ_price\": 39.1, \"max_econ_seats\": 230.0, \"min_econ_seats\": 230.0, \"mean_econ_seats\": 230.0, \"depart_month\": 3, \"depart_day\": 26, \"depart_hour\": 9, \"insert_date\": \"2020-02-21\", \"departure\": \"2020-03-26 09:40:00\", \"origin\": \"ALICANTE\", \"destination\": \"MADRID\", \"price_change\": null, \"price_change_percentage\": null, \"price_change_direction\": 0, \"price_increase\": false, \"price_decrease\": false, \"seats_sold\": null, \"depart_monthday\": \"03-26\", \"prop_sales\": 0.0, \"group_treatment\": 0, \"self_treatment\": 0, \"treatment_in_period\": 0}, {\"train_id\": \"ALICANTEMADRID2020-03-26 07:14:002020-03-26 09:35:00\", \"trend\": 16, \"mean_econ_price\": 55.7, \"max_econ_seats\": 254.0, \"min_econ_seats\": 254.0, \"mean_econ_seats\": 254.0, \"depart_month\": 3, \"depart_day\": 26, \"depart_hour\": 7, \"insert_date\": \"2020-02-22\", \"departure\": \"2020-03-26 07:14:00\", \"origin\": \"ALICANTE\", \"destination\": \"MADRID\", \"price_change\": 0.0, \"price_change_percentage\": 0.0, \"price_change_direction\": 0, \"price_increase\": false, \"price_decrease\": false, \"seats_sold\": 0.0, \"depart_monthday\": \"03-26\", \"prop_sales\": 0.0, \"group_treatment\": 0, \"self_treatment\": 0, \"treatment_in_period\": 0}, {\"train_id\": \"ALICANTEMADRID2020-03-26 08:34:002020-03-26 11:10:00\", \"trend\": 16, \"mean_econ_price\": 39.1, \"max_econ_seats\": 237.0, \"min_econ_seats\": 237.0, \"mean_econ_seats\": 237.0, \"depart_month\": 3, \"depart_day\": 26, \"depart_hour\": 8, \"insert_date\": \"2020-02-22\", \"departure\": \"2020-03-26 08:34:00\", \"origin\": \"ALICANTE\", \"destination\": \"MADRID\", \"price_change\": 0.0, \"price_change_percentage\": 0.0, \"price_change_direction\": 0, \"price_increase\": false, \"price_decrease\": false, \"seats_sold\": 0.0, \"depart_monthday\": \"03-26\", \"prop_sales\": 0.0, \"group_treatment\": 0, \"self_treatment\": 0, \"treatment_in_period\": 0}, {\"train_id\": \"ALICANTEMADRID2020-03-26 09:40:002020-03-26 12:11:00\", \"trend\": 16, \"mean_econ_price\": 39.1, \"max_econ_seats\": 230.0, \"min_econ_seats\": 230.0, \"mean_econ_seats\": 230.0, \"depart_month\": 3, \"depart_day\": 26, \"depart_hour\": 9, \"insert_date\": \"2020-02-22\", \"departure\": \"2020-03-26 09:40:00\", \"origin\": \"ALICANTE\", \"destination\": \"MADRID\", \"price_change\": 0.0, \"price_change_percentage\": 0.0, \"price_change_direction\": 0, \"price_increase\": false, \"price_decrease\": false, \"seats_sold\": 0.0, \"depart_monthday\": \"03-26\", \"prop_sales\": 0.0, \"group_treatment\": 0, \"self_treatment\": 0, \"treatment_in_period\": 0}, {\"train_id\": \"ALICANTEMADRID2020-03-26 07:14:002020-03-26 09:35:00\", \"trend\": 17, \"mean_econ_price\": 55.69285714285714, \"max_econ_seats\": 254.0, \"min_econ_seats\": 254.0, \"mean_econ_seats\": 254.0, \"depart_month\": 3, \"depart_day\": 26, \"depart_hour\": 7, \"insert_date\": \"2020-02-23\", \"departure\": \"2020-03-26 07:14:00\", \"origin\": \"ALICANTE\", \"destination\": \"MADRID\", \"price_change\": -0.0071428571428597, \"price_change_percentage\": -0.0, \"price_change_direction\": 0, \"price_increase\": false, \"price_decrease\": false, \"seats_sold\": 0.0, \"depart_monthday\": \"03-26\", \"prop_sales\": 0.0, \"group_treatment\": 0, \"self_treatment\": 0, \"treatment_in_period\": 0}, {\"train_id\": \"ALICANTEMADRID2020-03-26 08:34:002020-03-26 11:10:00\", \"trend\": 17, \"mean_econ_price\": 39.1, \"max_econ_seats\": 237.0, \"min_econ_seats\": 237.0, \"mean_econ_seats\": 237.0, \"depart_month\": 3, \"depart_day\": 26, \"depart_hour\": 8, \"insert_date\": \"2020-02-23\", \"departure\": \"2020-03-26 08:34:00\", \"origin\": \"ALICANTE\", \"destination\": \"MADRID\", \"price_change\": 0.0, \"price_change_percentage\": 0.0, \"price_change_direction\": 0, \"price_increase\": false, \"price_decrease\": false, \"seats_sold\": 0.0, \"depart_monthday\": \"03-26\", \"prop_sales\": 0.0, \"group_treatment\": 0, \"self_treatment\": 0, \"treatment_in_period\": 0}, {\"train_id\": \"ALICANTEMADRID2020-03-26 09:40:002020-03-26 12:11:00\", \"trend\": 17, \"mean_econ_price\": 39.1, \"max_econ_seats\": 230.0, \"min_econ_seats\": 230.0, \"mean_econ_seats\": 230.0, \"depart_month\": 3, \"depart_day\": 26, \"depart_hour\": 9, \"insert_date\": \"2020-02-23\", \"departure\": \"2020-03-26 09:40:00\", \"origin\": \"ALICANTE\", \"destination\": \"MADRID\", \"price_change\": 0.0, \"price_change_percentage\": 0.0, \"price_change_direction\": 0, \"price_increase\": false, \"price_decrease\": false, \"seats_sold\": 0.0, \"depart_monthday\": \"03-26\", \"prop_sales\": 0.0, \"group_treatment\": 0, \"self_treatment\": 0, \"treatment_in_period\": 0}, {\"train_id\": \"ALICANTEMADRID2020-03-26 07:14:002020-03-26 09:35:00\", \"trend\": 19, \"mean_econ_price\": 55.70000000000001, \"max_econ_seats\": 254.0, \"min_econ_seats\": 254.0, \"mean_econ_seats\": 254.0, \"depart_month\": 3, \"depart_day\": 26, \"depart_hour\": 7, \"insert_date\": \"2020-02-25\", \"departure\": \"2020-03-26 07:14:00\", \"origin\": \"ALICANTE\", \"destination\": \"MADRID\", \"price_change\": 0.0071428571428668, \"price_change_percentage\": 0.0, \"price_change_direction\": 0, \"price_increase\": false, \"price_decrease\": false, \"seats_sold\": 0.0, \"depart_monthday\": \"03-26\", \"prop_sales\": 0.0, \"group_treatment\": 0, \"self_treatment\": 0, \"treatment_in_period\": 0}, {\"train_id\": \"ALICANTEMADRID2020-03-26 08:34:002020-03-26 11:10:00\", \"trend\": 19, \"mean_econ_price\": 39.1, \"max_econ_seats\": 233.0, \"min_econ_seats\": 233.0, \"mean_econ_seats\": 233.0, \"depart_month\": 3, \"depart_day\": 26, \"depart_hour\": 8, \"insert_date\": \"2020-02-25\", \"departure\": \"2020-03-26 08:34:00\", \"origin\": \"ALICANTE\", \"destination\": \"MADRID\", \"price_change\": 0.0, \"price_change_percentage\": 0.0, \"price_change_direction\": 0, \"price_increase\": false, \"price_decrease\": false, \"seats_sold\": 4.0, \"depart_monthday\": \"03-26\", \"prop_sales\": 0.8, \"group_treatment\": 0, \"self_treatment\": 0, \"treatment_in_period\": 0}, {\"train_id\": \"ALICANTEMADRID2020-03-26 09:40:002020-03-26 12:11:00\", \"trend\": 19, \"mean_econ_price\": 39.1, \"max_econ_seats\": 23.0, \"min_econ_seats\": 23.0, \"mean_econ_seats\": 23.0, \"depart_month\": 3, \"depart_day\": 26, \"depart_hour\": 9, \"insert_date\": \"2020-02-25\", \"departure\": \"2020-03-26 09:40:00\", \"origin\": \"ALICANTE\", \"destination\": \"MADRID\", \"price_change\": 0.0, \"price_change_percentage\": 0.0, \"price_change_direction\": 0, \"price_increase\": false, \"price_decrease\": false, \"seats_sold\": 1.0, \"depart_monthday\": \"03-26\", \"prop_sales\": 0.2, \"group_treatment\": 0, \"self_treatment\": 0, \"treatment_in_period\": 0}, {\"train_id\": \"ALICANTEMADRID2020-03-26 07:14:002020-03-26 09:35:00\", \"trend\": 20, \"mean_econ_price\": 55.7, \"max_econ_seats\": 254.0, \"min_econ_seats\": 252.0, \"mean_econ_seats\": 252.8, \"depart_month\": 3, \"depart_day\": 26, \"depart_hour\": 7, \"insert_date\": \"2020-02-26\", \"departure\": \"2020-03-26 07:14:00\", \"origin\": \"ALICANTE\", \"destination\": \"MADRID\", \"price_change\": -7.105427357601002e-15, \"price_change_percentage\": -0.0, \"price_change_direction\": 0, \"price_increase\": false, \"price_decrease\": false, \"seats_sold\": 1.1999999999999886, \"depart_monthday\": \"03-26\", \"prop_sales\": 1.0, \"group_treatment\": 0, \"self_treatment\": 0, \"treatment_in_period\": 0}, {\"train_id\": \"ALICANTEMADRID2020-03-26 08:34:002020-03-26 11:10:00\", \"trend\": 20, \"mean_econ_price\": 39.1, \"max_econ_seats\": 233.0, \"min_econ_seats\": 233.0, \"mean_econ_seats\": 233.0, \"depart_month\": 3, \"depart_day\": 26, \"depart_hour\": 8, \"insert_date\": \"2020-02-26\", \"departure\": \"2020-03-26 08:34:00\", \"origin\": \"ALICANTE\", \"destination\": \"MADRID\", \"price_change\": 0.0, \"price_change_percentage\": 0.0, \"price_change_direction\": 0, \"price_increase\": false, \"price_decrease\": false, \"seats_sold\": 0.0, \"depart_monthday\": \"03-26\", \"prop_sales\": 0.0, \"group_treatment\": 0, \"self_treatment\": 0, \"treatment_in_period\": 0}, {\"train_id\": \"ALICANTEMADRID2020-03-26 09:40:002020-03-26 12:11:00\", \"trend\": 20, \"mean_econ_price\": 39.1, \"max_econ_seats\": 23.0, \"min_econ_seats\": 23.0, \"mean_econ_seats\": 23.0, \"depart_month\": 3, \"depart_day\": 26, \"depart_hour\": 9, \"insert_date\": \"2020-02-26\", \"departure\": \"2020-03-26 09:40:00\", \"origin\": \"ALICANTE\", \"destination\": \"MADRID\", \"price_change\": 0.0, \"price_change_percentage\": 0.0, \"price_change_direction\": 0, \"price_increase\": false, \"price_decrease\": false, \"seats_sold\": 0.0, \"depart_monthday\": \"03-26\", \"prop_sales\": 0.0, \"group_treatment\": 0, \"self_treatment\": 0, \"treatment_in_period\": 0}, {\"train_id\": \"ALICANTEMADRID2020-03-26 07:14:002020-03-26 09:35:00\", \"trend\": 21, \"mean_econ_price\": 55.6925, \"max_econ_seats\": 252.0, \"min_econ_seats\": 252.0, \"mean_econ_seats\": 252.0, \"depart_month\": 3, \"depart_day\": 26, \"depart_hour\": 7, \"insert_date\": \"2020-02-27\", \"departure\": \"2020-03-26 07:14:00\", \"origin\": \"ALICANTE\", \"destination\": \"MADRID\", \"price_change\": -0.0075000000000073, \"price_change_percentage\": -0.0, \"price_change_direction\": 0, \"price_increase\": false, \"price_decrease\": false, \"seats_sold\": 0.8000000000000114, \"depart_monthday\": \"03-26\", \"prop_sales\": 1.0, \"group_treatment\": 0, \"self_treatment\": 0, \"treatment_in_period\": 0}, {\"train_id\": \"ALICANTEMADRID2020-03-26 08:34:002020-03-26 11:10:00\", \"trend\": 21, \"mean_econ_price\": 39.115, \"max_econ_seats\": 233.0, \"min_econ_seats\": 233.0, \"mean_econ_seats\": 233.0, \"depart_month\": 3, \"depart_day\": 26, \"depart_hour\": 8, \"insert_date\": \"2020-02-27\", \"departure\": \"2020-03-26 08:34:00\", \"origin\": \"ALICANTE\", \"destination\": \"MADRID\", \"price_change\": 0.0149999999999934, \"price_change_percentage\": 0.0, \"price_change_direction\": 0, \"price_increase\": false, \"price_decrease\": false, \"seats_sold\": 0.0, \"depart_monthday\": \"03-26\", \"prop_sales\": 0.0, \"group_treatment\": 0, \"self_treatment\": 0, \"treatment_in_period\": 0}, {\"train_id\": \"ALICANTEMADRID2020-03-26 09:40:002020-03-26 12:11:00\", \"trend\": 21, \"mean_econ_price\": 39.115, \"max_econ_seats\": 23.0, \"min_econ_seats\": 23.0, \"mean_econ_seats\": 23.0, \"depart_month\": 3, \"depart_day\": 26, \"depart_hour\": 9, \"insert_date\": \"2020-02-27\", \"departure\": \"2020-03-26 09:40:00\", \"origin\": \"ALICANTE\", \"destination\": \"MADRID\", \"price_change\": 0.0149999999999934, \"price_change_percentage\": 0.0, \"price_change_direction\": 0, \"price_increase\": false, \"price_decrease\": false, \"seats_sold\": 0.0, \"depart_monthday\": \"03-26\", \"prop_sales\": 0.0, \"group_treatment\": 0, \"self_treatment\": 0, \"treatment_in_period\": 0}, {\"train_id\": \"ALICANTEMADRID2020-03-26 07:14:002020-03-26 09:35:00\", \"trend\": 22, \"mean_econ_price\": 55.7, \"max_econ_seats\": 252.0, \"min_econ_seats\": 252.0, \"mean_econ_seats\": 252.0, \"depart_month\": 3, \"depart_day\": 26, \"depart_hour\": 7, \"insert_date\": \"2020-02-28\", \"departure\": \"2020-03-26 07:14:00\", \"origin\": \"ALICANTE\", \"destination\": \"MADRID\", \"price_change\": 0.0075000000000073, \"price_change_percentage\": 0.0, \"price_change_direction\": 0, \"price_increase\": false, \"price_decrease\": false, \"seats_sold\": 0.0, \"depart_monthday\": \"03-26\", \"prop_sales\": 0.0, \"group_treatment\": 0, \"self_treatment\": 0, \"treatment_in_period\": 0}, {\"train_id\": \"ALICANTEMADRID2020-03-26 08:34:002020-03-26 11:10:00\", \"trend\": 22, \"mean_econ_price\": 39.1, \"max_econ_seats\": 233.0, \"min_econ_seats\": 233.0, \"mean_econ_seats\": 233.0, \"depart_month\": 3, \"depart_day\": 26, \"depart_hour\": 8, \"insert_date\": \"2020-02-28\", \"departure\": \"2020-03-26 08:34:00\", \"origin\": \"ALICANTE\", \"destination\": \"MADRID\", \"price_change\": -0.0149999999999934, \"price_change_percentage\": -0.0, \"price_change_direction\": 0, \"price_increase\": false, \"price_decrease\": false, \"seats_sold\": 0.0, \"depart_monthday\": \"03-26\", \"prop_sales\": 0.0, \"group_treatment\": 0, \"self_treatment\": 0, \"treatment_in_period\": 0}, {\"train_id\": \"ALICANTEMADRID2020-03-26 09:40:002020-03-26 12:11:00\", \"trend\": 22, \"mean_econ_price\": 39.1, \"max_econ_seats\": 23.0, \"min_econ_seats\": 20.0, \"mean_econ_seats\": 226.44444444444449, \"depart_month\": 3, \"depart_day\": 26, \"depart_hour\": 9, \"insert_date\": \"2020-02-28\", \"departure\": \"2020-03-26 09:40:00\", \"origin\": \"ALICANTE\", \"destination\": \"MADRID\", \"price_change\": -0.0149999999999934, \"price_change_percentage\": -0.0, \"price_change_direction\": 0, \"price_increase\": false, \"price_decrease\": false, \"seats_sold\": 2.555555555555543, \"depart_monthday\": \"03-26\", \"prop_sales\": 1.0, \"group_treatment\": 0, \"self_treatment\": 0, \"treatment_in_period\": 0}, {\"train_id\": \"ALICANTEMADRID2020-03-26 07:14:002020-03-26 09:35:00\", \"trend\": 23, \"mean_econ_price\": 55.69357142857143, \"max_econ_seats\": 252.0, \"min_econ_seats\": 251.0, \"mean_econ_seats\": 251.7142857142857, \"depart_month\": 3, \"depart_day\": 26, \"depart_hour\": 7, \"insert_date\": \"2020-02-29\", \"departure\": \"2020-03-26 07:14:00\", \"origin\": \"ALICANTE\", \"destination\": \"MADRID\", \"price_change\": -0.0064285714285716, \"price_change_percentage\": -0.0, \"price_change_direction\": 0, \"price_increase\": false, \"price_decrease\": false, \"seats_sold\": 0.2857142857142776, \"depart_monthday\": \"03-26\", \"prop_sales\": 0.2627737226277277, \"group_treatment\": 0, \"self_treatment\": 0, \"treatment_in_period\": 0}, {\"train_id\": \"ALICANTEMADRID2020-03-26 08:34:002020-03-26 11:10:00\", \"trend\": 23, \"mean_econ_price\": 39.11285714285714, \"max_econ_seats\": 233.0, \"min_econ_seats\": 232.0, \"mean_econ_seats\": 232.92857142857144, \"depart_month\": 3, \"depart_day\": 26, \"depart_hour\": 8, \"insert_date\": \"2020-02-29\", \"departure\": \"2020-03-26 08:34:00\", \"origin\": \"ALICANTE\", \"destination\": \"MADRID\", \"price_change\": 0.0128571428571362, \"price_change_percentage\": 0.0, \"price_change_direction\": 0, \"price_increase\": false, \"price_decrease\": false, \"seats_sold\": 0.0714285714285836, \"depart_monthday\": \"03-26\", \"prop_sales\": 0.06569343065694498, \"group_treatment\": 0, \"self_treatment\": 0, \"treatment_in_period\": 0}, {\"train_id\": \"ALICANTEMADRID2020-03-26 09:40:002020-03-26 12:11:00\", \"trend\": 23, \"mean_econ_price\": 39.11285714285714, \"max_econ_seats\": 20.0, \"min_econ_seats\": 19.0, \"mean_econ_seats\": 225.7142857142857, \"depart_month\": 3, \"depart_day\": 26, \"depart_hour\": 9, \"insert_date\": \"2020-02-29\", \"departure\": \"2020-03-26 09:40:00\", \"origin\": \"ALICANTE\", \"destination\": \"MADRID\", \"price_change\": 0.0128571428571362, \"price_change_percentage\": 0.0, \"price_change_direction\": 0, \"price_increase\": false, \"price_decrease\": false, \"seats_sold\": 0.7301587301587347, \"depart_monthday\": \"03-26\", \"prop_sales\": 0.6715328467153273, \"group_treatment\": 0, \"self_treatment\": 0, \"treatment_in_period\": 0}, {\"train_id\": \"ALICANTEMADRID2020-03-26 07:14:002020-03-26 09:35:00\", \"trend\": 24, \"mean_econ_price\": 55.697500000000005, \"max_econ_seats\": 251.0, \"min_econ_seats\": 251.0, \"mean_econ_seats\": 251.0, \"depart_month\": 3, \"depart_day\": 26, \"depart_hour\": 7, \"insert_date\": \"2020-03-01\", \"departure\": \"2020-03-26 07:14:00\", \"origin\": \"ALICANTE\", \"destination\": \"MADRID\", \"price_change\": 0.0039285714285739, \"price_change_percentage\": 0.0, \"price_change_direction\": 0, \"price_increase\": false, \"price_decrease\": false, \"seats_sold\": 0.7142857142857224, \"depart_monthday\": \"03-26\", \"prop_sales\": 0.22988505747126667, \"group_treatment\": 0, \"self_treatment\": 0, \"treatment_in_period\": 0}, {\"train_id\": \"ALICANTEMADRID2020-03-26 08:34:002020-03-26 11:10:00\", \"trend\": 24, \"mean_econ_price\": 39.105, \"max_econ_seats\": 232.0, \"min_econ_seats\": 232.0, \"mean_econ_seats\": 232.0, \"depart_month\": 3, \"depart_day\": 26, \"depart_hour\": 8, \"insert_date\": \"2020-03-01\", \"departure\": \"2020-03-26 08:34:00\", \"origin\": \"ALICANTE\", \"destination\": \"MADRID\", \"price_change\": -0.0078571428571336, \"price_change_percentage\": -0.0, \"price_change_direction\": 0, \"price_increase\": false, \"price_decrease\": false, \"seats_sold\": 0.9285714285714164, \"depart_monthday\": \"03-26\", \"prop_sales\": 0.29885057471263937, \"group_treatment\": 0, \"self_treatment\": 0, \"treatment_in_period\": 0}, {\"train_id\": \"ALICANTEMADRID2020-03-26 09:40:002020-03-26 12:11:00\", \"trend\": 24, \"mean_econ_price\": 39.105, \"max_econ_seats\": 19.0, \"min_econ_seats\": 16.0, \"mean_econ_seats\": 224.25, \"depart_month\": 3, \"depart_day\": 26, \"depart_hour\": 9, \"insert_date\": \"2020-03-01\", \"departure\": \"2020-03-26 09:40:00\", \"origin\": \"ALICANTE\", \"destination\": \"MADRID\", \"price_change\": -0.0078571428571336, \"price_change_percentage\": -0.0, \"price_change_direction\": 0, \"price_increase\": false, \"price_decrease\": false, \"seats_sold\": 1.4642857142857224, \"depart_monthday\": \"03-26\", \"prop_sales\": 0.47126436781609393, \"group_treatment\": 0, \"self_treatment\": 0, \"treatment_in_period\": 0}, {\"train_id\": \"ALICANTEMADRID2020-03-26 07:14:002020-03-26 09:35:00\", \"trend\": 25, \"mean_econ_price\": 55.70000000000001, \"max_econ_seats\": 251.0, \"min_econ_seats\": 250.0, \"mean_econ_seats\": 250.66666666666663, \"depart_month\": 3, \"depart_day\": 26, \"depart_hour\": 7, \"insert_date\": \"2020-03-02\", \"departure\": \"2020-03-26 07:14:00\", \"origin\": \"ALICANTE\", \"destination\": \"MADRID\", \"price_change\": 0.0025000000000048, \"price_change_percentage\": 0.0, \"price_change_direction\": 0, \"price_increase\": false, \"price_decrease\": false, \"seats_sold\": 0.3333333333333428, \"depart_monthday\": \"03-26\", \"prop_sales\": 0.05633802816901578, \"group_treatment\": 0, \"self_treatment\": 0, \"treatment_in_period\": 0}, {\"train_id\": \"ALICANTEMADRID2020-03-26 08:34:002020-03-26 11:10:00\", \"trend\": 25, \"mean_econ_price\": 39.1, \"max_econ_seats\": 232.0, \"min_econ_seats\": 23.0, \"mean_econ_seats\": 230.33333333333331, \"depart_month\": 3, \"depart_day\": 26, \"depart_hour\": 8, \"insert_date\": \"2020-03-02\", \"departure\": \"2020-03-26 08:34:00\", \"origin\": \"ALICANTE\", \"destination\": \"MADRID\", \"price_change\": -0.0050000000000025, \"price_change_percentage\": -0.0, \"price_change_direction\": 0, \"price_increase\": false, \"price_decrease\": false, \"seats_sold\": 1.6666666666666572, \"depart_monthday\": \"03-26\", \"prop_sales\": 0.28169014084506927, \"group_treatment\": 0, \"self_treatment\": 0, \"treatment_in_period\": 0}, {\"train_id\": \"ALICANTEMADRID2020-03-26 09:40:002020-03-26 12:11:00\", \"trend\": 25, \"mean_econ_price\": 39.1, \"max_econ_seats\": 16.0, \"min_econ_seats\": 12.0, \"mean_econ_seats\": 220.33333333333331, \"depart_month\": 3, \"depart_day\": 26, \"depart_hour\": 9, \"insert_date\": \"2020-03-02\", \"departure\": \"2020-03-26 09:40:00\", \"origin\": \"ALICANTE\", \"destination\": \"MADRID\", \"price_change\": -0.0050000000000025, \"price_change_percentage\": -0.0, \"price_change_direction\": 0, \"price_increase\": false, \"price_decrease\": false, \"seats_sold\": 3.916666666666657, \"depart_monthday\": \"03-26\", \"prop_sales\": 0.6619718309859149, \"group_treatment\": 0, \"self_treatment\": 0, \"treatment_in_period\": 0}, {\"train_id\": \"ALICANTEMADRID2020-03-26 07:14:002020-03-26 09:35:00\", \"trend\": 26, \"mean_econ_price\": 55.7, \"max_econ_seats\": 250.0, \"min_econ_seats\": 249.0, \"mean_econ_seats\": 249.8571428571429, \"depart_month\": 3, \"depart_day\": 26, \"depart_hour\": 7, \"insert_date\": \"2020-03-03\", \"departure\": \"2020-03-26 07:14:00\", \"origin\": \"ALICANTE\", \"destination\": \"MADRID\", \"price_change\": -7.105427357601002e-15, \"price_change_percentage\": -0.0, \"price_change_direction\": 0, \"price_increase\": false, \"price_decrease\": false, \"seats_sold\": 0.809523809523796, \"depart_monthday\": \"03-26\", \"prop_sales\": 0.07327586206896418, \"group_treatment\": 0, \"self_treatment\": 0, \"treatment_in_period\": 0}, {\"train_id\": \"ALICANTEMADRID2020-03-26 08:34:002020-03-26 11:10:00\", \"trend\": 26, \"mean_econ_price\": 39.1, \"max_econ_seats\": 23.0, \"min_econ_seats\": 23.0, \"mean_econ_seats\": 23.0, \"depart_month\": 3, \"depart_day\": 26, \"depart_hour\": 8, \"insert_date\": \"2020-03-03\", \"departure\": \"2020-03-26 08:34:00\", \"origin\": \"ALICANTE\", \"destination\": \"MADRID\", \"price_change\": 0.0, \"price_change_percentage\": 0.0, \"price_change_direction\": 0, \"price_increase\": false, \"price_decrease\": false, \"seats_sold\": 1.3333333333333428, \"depart_monthday\": \"03-26\", \"prop_sales\": 0.12068965517241446, \"group_treatment\": 0, \"self_treatment\": 0, \"treatment_in_period\": 0}, {\"train_id\": \"ALICANTEMADRID2020-03-26 09:40:002020-03-26 12:11:00\", \"trend\": 26, \"mean_econ_price\": 39.1, \"max_econ_seats\": 12.0, \"min_econ_seats\": 2.0, \"mean_econ_seats\": 211.42857142857144, \"depart_month\": 3, \"depart_day\": 26, \"depart_hour\": 9, \"insert_date\": \"2020-03-03\", \"departure\": \"2020-03-26 09:40:00\", \"origin\": \"ALICANTE\", \"destination\": \"MADRID\", \"price_change\": 0.0, \"price_change_percentage\": 0.0, \"price_change_direction\": 0, \"price_increase\": false, \"price_decrease\": false, \"seats_sold\": 8.904761904761926, \"depart_monthday\": \"03-26\", \"prop_sales\": 0.8060344827586213, \"group_treatment\": 0, \"self_treatment\": 0, \"treatment_in_period\": 0}, {\"train_id\": \"ALICANTEMADRID2020-03-26 07:14:002020-03-26 09:35:00\", \"trend\": 27, \"mean_econ_price\": 44.404, \"max_econ_seats\": 249.0, \"min_econ_seats\": 244.0, \"mean_econ_seats\": 246.6, \"depart_month\": 3, \"depart_day\": 26, \"depart_hour\": 7, \"insert_date\": \"2020-03-04\", \"departure\": \"2020-03-26 07:14:00\", \"origin\": \"ALICANTE\", \"destination\": \"MADRID\", \"price_change\": -11.296000000000006, \"price_change_percentage\": -0.254, \"price_change_direction\": -1, \"price_increase\": false, \"price_decrease\": true, \"seats_sold\": 3.257142857142867, \"depart_monthday\": \"03-26\", \"prop_sales\": 0.3507692307692321, \"group_treatment\": 0, \"self_treatment\": 0, \"treatment_in_period\": 0}, {\"train_id\": \"ALICANTEMADRID2020-03-26 08:34:002020-03-26 11:10:00\", \"trend\": 27, \"mean_econ_price\": 39.1, \"max_econ_seats\": 22.0, \"min_econ_seats\": 21.0, \"mean_econ_seats\": 227.4, \"depart_month\": 3, \"depart_day\": 26, \"depart_hour\": 8, \"insert_date\": \"2020-03-04\", \"departure\": \"2020-03-26 08:34:00\", \"origin\": \"ALICANTE\", \"destination\": \"MADRID\", \"price_change\": 0.0, \"price_change_percentage\": 0.0, \"price_change_direction\": 0, \"price_increase\": false, \"price_decrease\": false, \"seats_sold\": 1.5999999999999943, \"depart_monthday\": \"03-26\", \"prop_sales\": 0.17230769230769186, \"group_treatment\": 0, \"self_treatment\": 0, \"treatment_in_period\": 0}, {\"train_id\": \"ALICANTEMADRID2020-03-26 09:40:002020-03-26 12:11:00\", \"trend\": 27, \"mean_econ_price\": 33.8, \"max_econ_seats\": 2.0, \"min_econ_seats\": 206.0, \"mean_econ_seats\": 1.0, \"depart_month\": 3, \"depart_day\": 26, \"depart_hour\": 9, \"insert_date\": \"2020-03-04\", \"departure\": \"2020-03-26 09:40:00\", \"origin\": \"ALICANTE\", \"destination\": \"MADRID\", \"price_change\": -5.300000000000004, \"price_change_percentage\": -0.157, \"price_change_direction\": -1, \"price_increase\": false, \"price_decrease\": true, \"seats_sold\": 4.428571428571416, \"depart_monthday\": \"03-26\", \"prop_sales\": 0.476923076923076, \"group_treatment\": 0, \"self_treatment\": 0, \"treatment_in_period\": 0}, {\"train_id\": \"ALICANTEMADRID2020-03-26 07:14:002020-03-26 09:35:00\", \"trend\": 28, \"mean_econ_price\": 44.4, \"max_econ_seats\": 244.0, \"min_econ_seats\": 244.0, \"mean_econ_seats\": 244.0, \"depart_month\": 3, \"depart_day\": 26, \"depart_hour\": 7, \"insert_date\": \"2020-03-05\", \"departure\": \"2020-03-26 07:14:00\", \"origin\": \"ALICANTE\", \"destination\": \"MADRID\", \"price_change\": -0.0039999999999977, \"price_change_percentage\": -0.0, \"price_change_direction\": 0, \"price_increase\": false, \"price_decrease\": false, \"seats_sold\": 2.5999999999999943, \"depart_monthday\": \"03-26\", \"prop_sales\": 0.31836734693877516, \"group_treatment\": 0, \"self_treatment\": 0, \"treatment_in_period\": 0}, {\"train_id\": \"ALICANTEMADRID2020-03-26 08:34:002020-03-26 11:10:00\", \"trend\": 28, \"mean_econ_price\": 39.1, \"max_econ_seats\": 20.0, \"min_econ_seats\": 19.0, \"mean_econ_seats\": 225.83333333333331, \"depart_month\": 3, \"depart_day\": 26, \"depart_hour\": 8, \"insert_date\": \"2020-03-05\", \"departure\": \"2020-03-26 08:34:00\", \"origin\": \"ALICANTE\", \"destination\": \"MADRID\", \"price_change\": 0.0, \"price_change_percentage\": 0.0, \"price_change_direction\": 0, \"price_increase\": false, \"price_decrease\": false, \"seats_sold\": 1.5666666666666629, \"depart_monthday\": \"03-26\", \"prop_sales\": 0.1918367346938773, \"group_treatment\": 0, \"self_treatment\": 0, \"treatment_in_period\": 0}, {\"train_id\": \"ALICANTEMADRID2020-03-26 09:40:002020-03-26 12:11:00\", \"trend\": 28, \"mean_econ_price\": 33.8, \"max_econ_seats\": 203.0, \"min_econ_seats\": 203.0, \"mean_econ_seats\": 203.0, \"depart_month\": 3, \"depart_day\": 26, \"depart_hour\": 9, \"insert_date\": \"2020-03-05\", \"departure\": \"2020-03-26 09:40:00\", \"origin\": \"ALICANTE\", \"destination\": \"MADRID\", \"price_change\": 0.0, \"price_change_percentage\": 0.0, \"price_change_direction\": 0, \"price_increase\": false, \"price_decrease\": false, \"seats_sold\": 4.0, \"depart_monthday\": \"03-26\", \"prop_sales\": 0.4897959183673475, \"group_treatment\": 0, \"self_treatment\": 0, \"treatment_in_period\": 0}, {\"train_id\": \"ALICANTEMADRID2020-03-26 07:14:002020-03-26 09:35:00\", \"trend\": 29, \"mean_econ_price\": 44.4, \"max_econ_seats\": 244.0, \"min_econ_seats\": 239.0, \"mean_econ_seats\": 241.83333333333331, \"depart_month\": 3, \"depart_day\": 26, \"depart_hour\": 7, \"insert_date\": \"2020-03-06\", \"departure\": \"2020-03-26 07:14:00\", \"origin\": \"ALICANTE\", \"destination\": \"MADRID\", \"price_change\": 0.0, \"price_change_percentage\": 0.0, \"price_change_direction\": 0, \"price_increase\": false, \"price_decrease\": false, \"seats_sold\": 2.166666666666657, \"depart_monthday\": \"03-26\", \"prop_sales\": 0.8124999999999993, \"group_treatment\": 1, \"self_treatment\": 0, \"treatment_in_period\": 1}, {\"train_id\": \"ALICANTEMADRID2020-03-26 08:34:002020-03-26 11:10:00\", \"trend\": 29, \"mean_econ_price\": 39.1, \"max_econ_seats\": 20.0, \"min_econ_seats\": 19.0, \"mean_econ_seats\": 225.5, \"depart_month\": 3, \"depart_day\": 26, \"depart_hour\": 8, \"insert_date\": \"2020-03-06\", \"departure\": \"2020-03-26 08:34:00\", \"origin\": \"ALICANTE\", \"destination\": \"MADRID\", \"price_change\": 0.0, \"price_change_percentage\": 0.0, \"price_change_direction\": 0, \"price_increase\": false, \"price_decrease\": false, \"seats_sold\": 0.3333333333333428, \"depart_monthday\": \"03-26\", \"prop_sales\": 0.125000000000004, \"group_treatment\": 1, \"self_treatment\": 0, \"treatment_in_period\": 1}, {\"train_id\": \"ALICANTEMADRID2020-03-26 09:40:002020-03-26 12:11:00\", \"trend\": 29, \"mean_econ_price\": 34.68333333333333, \"max_econ_seats\": 203.0, \"min_econ_seats\": 202.0, \"mean_econ_seats\": 202.83333333333331, \"depart_month\": 3, \"depart_day\": 26, \"depart_hour\": 9, \"insert_date\": \"2020-03-06\", \"departure\": \"2020-03-26 09:40:00\", \"origin\": \"ALICANTE\", \"destination\": \"MADRID\", \"price_change\": 0.8833333333333329, \"price_change_percentage\": 0.025, \"price_change_direction\": 1, \"price_increase\": true, \"price_decrease\": false, \"seats_sold\": 0.1666666666666572, \"depart_monthday\": \"03-26\", \"prop_sales\": 0.06249999999999667, \"group_treatment\": 1, \"self_treatment\": 1, \"treatment_in_period\": 0}, {\"train_id\": \"ALICANTEMADRID2020-03-26 07:14:002020-03-26 09:35:00\", \"trend\": 30, \"mean_econ_price\": 44.4, \"max_econ_seats\": 240.0, \"min_econ_seats\": 240.0, \"mean_econ_seats\": 240.0, \"depart_month\": 3, \"depart_day\": 26, \"depart_hour\": 7, \"insert_date\": \"2020-03-07\", \"departure\": \"2020-03-26 07:14:00\", \"origin\": \"ALICANTE\", \"destination\": \"MADRID\", \"price_change\": 0.0, \"price_change_percentage\": 0.0, \"price_change_direction\": 0, \"price_increase\": false, \"price_decrease\": false, \"seats_sold\": 1.8333333333333428, \"depart_monthday\": \"03-26\", \"prop_sales\": 0.5789473684210522, \"group_treatment\": 1, \"self_treatment\": 0, \"treatment_in_period\": 1}, {\"train_id\": \"ALICANTEMADRID2020-03-26 08:34:002020-03-26 11:10:00\", \"trend\": 30, \"mean_econ_price\": 39.1, \"max_econ_seats\": 19.0, \"min_econ_seats\": 19.0, \"mean_econ_seats\": 19.0, \"depart_month\": 3, \"depart_day\": 26, \"depart_hour\": 8, \"insert_date\": \"2020-03-07\", \"departure\": \"2020-03-26 08:34:00\", \"origin\": \"ALICANTE\", \"destination\": \"MADRID\", \"price_change\": 0.0, \"price_change_percentage\": 0.0, \"price_change_direction\": 0, \"price_increase\": false, \"price_decrease\": false, \"seats_sold\": 0.5, \"depart_monthday\": \"03-26\", \"prop_sales\": 0.1578947368421043, \"group_treatment\": 1, \"self_treatment\": 0, \"treatment_in_period\": 1}, {\"train_id\": \"ALICANTEMADRID2020-03-26 09:40:002020-03-26 12:11:00\", \"trend\": 30, \"mean_econ_price\": 39.1, \"max_econ_seats\": 202.0, \"min_econ_seats\": 202.0, \"mean_econ_seats\": 202.0, \"depart_month\": 3, \"depart_day\": 26, \"depart_hour\": 9, \"insert_date\": \"2020-03-07\", \"departure\": \"2020-03-26 09:40:00\", \"origin\": \"ALICANTE\", \"destination\": \"MADRID\", \"price_change\": 4.416666666666671, \"price_change_percentage\": 0.113, \"price_change_direction\": 1, \"price_increase\": true, \"price_decrease\": false, \"seats_sold\": 0.8333333333333428, \"depart_monthday\": \"03-26\", \"prop_sales\": 0.26315789473684353, \"group_treatment\": 1, \"self_treatment\": 1, \"treatment_in_period\": 0}, {\"train_id\": \"ALICANTEMADRID2020-03-26 07:14:002020-03-26 09:35:00\", \"trend\": 31, \"mean_econ_price\": 44.4, \"max_econ_seats\": 240.0, \"min_econ_seats\": 240.0, \"mean_econ_seats\": 240.0, \"depart_month\": 3, \"depart_day\": 26, \"depart_hour\": 7, \"insert_date\": \"2020-03-08\", \"departure\": \"2020-03-26 07:14:00\", \"origin\": \"ALICANTE\", \"destination\": \"MADRID\", \"price_change\": 0.0, \"price_change_percentage\": 0.0, \"price_change_direction\": 0, \"price_increase\": false, \"price_decrease\": false, \"seats_sold\": 0.0, \"depart_monthday\": \"03-26\", \"prop_sales\": 0.0, \"group_treatment\": 0, \"self_treatment\": 0, \"treatment_in_period\": 0}, {\"train_id\": \"ALICANTEMADRID2020-03-26 08:34:002020-03-26 11:10:00\", \"trend\": 31, \"mean_econ_price\": 39.1, \"max_econ_seats\": 19.0, \"min_econ_seats\": 17.0, \"mean_econ_seats\": 18.0, \"depart_month\": 3, \"depart_day\": 26, \"depart_hour\": 8, \"insert_date\": \"2020-03-08\", \"departure\": \"2020-03-26 08:34:00\", \"origin\": \"ALICANTE\", \"destination\": \"MADRID\", \"price_change\": 0.0, \"price_change_percentage\": 0.0, \"price_change_direction\": 0, \"price_increase\": false, \"price_decrease\": false, \"seats_sold\": 1.0, \"depart_monthday\": \"03-26\", \"prop_sales\": 0.7499999999999947, \"group_treatment\": 0, \"self_treatment\": 0, \"treatment_in_period\": 0}, {\"train_id\": \"ALICANTEMADRID2020-03-26 09:40:002020-03-26 12:11:00\", \"trend\": 31, \"mean_econ_price\": 39.1, \"max_econ_seats\": 202.0, \"min_econ_seats\": 200.0, \"mean_econ_seats\": 201.66666666666663, \"depart_month\": 3, \"depart_day\": 26, \"depart_hour\": 9, \"insert_date\": \"2020-03-08\", \"departure\": \"2020-03-26 09:40:00\", \"origin\": \"ALICANTE\", \"destination\": \"MADRID\", \"price_change\": 0.0, \"price_change_percentage\": 0.0, \"price_change_direction\": 0, \"price_increase\": false, \"price_decrease\": false, \"seats_sold\": 0.3333333333333428, \"depart_monthday\": \"03-26\", \"prop_sales\": 0.25000000000000533, \"group_treatment\": 0, \"self_treatment\": 0, \"treatment_in_period\": 0}, {\"train_id\": \"ALICANTEMADRID2020-03-26 07:14:002020-03-26 09:35:00\", \"trend\": 32, \"mean_econ_price\": 44.406666666666666, \"max_econ_seats\": 240.0, \"min_econ_seats\": 237.0, \"mean_econ_seats\": 239.16666666666663, \"depart_month\": 3, \"depart_day\": 26, \"depart_hour\": 7, \"insert_date\": \"2020-03-09\", \"departure\": \"2020-03-26 07:14:00\", \"origin\": \"ALICANTE\", \"destination\": \"MADRID\", \"price_change\": 0.0066666666666677, \"price_change_percentage\": 0.0, \"price_change_direction\": 0, \"price_increase\": false, \"price_decrease\": false, \"seats_sold\": 0.8333333333333428, \"depart_monthday\": \"03-26\", \"prop_sales\": 0.12820512820512966, \"group_treatment\": 0, \"self_treatment\": 0, \"treatment_in_period\": 0}, {\"train_id\": \"ALICANTEMADRID2020-03-26 08:34:002020-03-26 11:10:00\", \"trend\": 32, \"mean_econ_price\": 39.1, \"max_econ_seats\": 17.0, \"min_econ_seats\": 15.0, \"mean_econ_seats\": 222.66666666666663, \"depart_month\": 3, \"depart_day\": 26, \"depart_hour\": 8, \"insert_date\": \"2020-03-09\", \"departure\": \"2020-03-26 08:34:00\", \"origin\": \"ALICANTE\", \"destination\": \"MADRID\", \"price_change\": 0.0, \"price_change_percentage\": 0.0, \"price_change_direction\": 0, \"price_increase\": false, \"price_decrease\": false, \"seats_sold\": 1.3333333333333428, \"depart_monthday\": \"03-26\", \"prop_sales\": 0.2051282051282066, \"group_treatment\": 0, \"self_treatment\": 0, \"treatment_in_period\": 0}, {\"train_id\": \"ALICANTEMADRID2020-03-26 09:40:002020-03-26 12:11:00\", \"trend\": 32, \"mean_econ_price\": 39.11333333333334, \"max_econ_seats\": 200.0, \"min_econ_seats\": 195.0, \"mean_econ_seats\": 197.33333333333331, \"depart_month\": 3, \"depart_day\": 26, \"depart_hour\": 9, \"insert_date\": \"2020-03-09\", \"departure\": \"2020-03-26 09:40:00\", \"origin\": \"ALICANTE\", \"destination\": \"MADRID\", \"price_change\": 0.0133333333333354, \"price_change_percentage\": 0.0, \"price_change_direction\": 0, \"price_increase\": false, \"price_decrease\": false, \"seats_sold\": 4.333333333333314, \"depart_monthday\": \"03-26\", \"prop_sales\": 0.6666666666666637, \"group_treatment\": 0, \"self_treatment\": 0, \"treatment_in_period\": 0}, {\"train_id\": \"ALICANTEMADRID2020-03-26 07:14:002020-03-26 09:35:00\", \"trend\": 33, \"mean_econ_price\": 44.4025, \"max_econ_seats\": 239.0, \"min_econ_seats\": 236.0, \"mean_econ_seats\": 236.75, \"depart_month\": 3, \"depart_day\": 26, \"depart_hour\": 7, \"insert_date\": \"2020-03-10\", \"departure\": \"2020-03-26 07:14:00\", \"origin\": \"ALICANTE\", \"destination\": \"MADRID\", \"price_change\": -0.0041666666666699, \"price_change_percentage\": -0.0, \"price_change_direction\": 0, \"price_increase\": false, \"price_decrease\": false, \"seats_sold\": 2.416666666666657, \"depart_monthday\": \"03-26\", \"prop_sales\": 0.38410596026489974, \"group_treatment\": 0, \"self_treatment\": 0, \"treatment_in_period\": 0}, {\"train_id\": \"ALICANTEMADRID2020-03-26 08:34:002020-03-26 11:10:00\", \"trend\": 33, \"mean_econ_price\": 39.1, \"max_econ_seats\": 16.0, \"min_econ_seats\": 15.0, \"mean_econ_seats\": 221.75, \"depart_month\": 3, \"depart_day\": 26, \"depart_hour\": 8, \"insert_date\": \"2020-03-10\", \"departure\": \"2020-03-26 08:34:00\", \"origin\": \"ALICANTE\", \"destination\": \"MADRID\", \"price_change\": 0.0, \"price_change_percentage\": 0.0, \"price_change_direction\": 0, \"price_increase\": false, \"price_decrease\": false, \"seats_sold\": 0.9166666666666572, \"depart_monthday\": \"03-26\", \"prop_sales\": 0.14569536423840931, \"group_treatment\": 0, \"self_treatment\": 0, \"treatment_in_period\": 0}, {\"train_id\": \"ALICANTEMADRID2020-03-26 09:40:002020-03-26 12:11:00\", \"trend\": 33, \"mean_econ_price\": 39.1025, \"max_econ_seats\": 195.0, \"min_econ_seats\": 194.0, \"mean_econ_seats\": 194.375, \"depart_month\": 3, \"depart_day\": 26, \"depart_hour\": 9, \"insert_date\": \"2020-03-10\", \"departure\": \"2020-03-26 09:40:00\", \"origin\": \"ALICANTE\", \"destination\": \"MADRID\", \"price_change\": -0.0108333333333376, \"price_change_percentage\": -0.0, \"price_change_direction\": 0, \"price_increase\": false, \"price_decrease\": false, \"seats_sold\": 2.958333333333343, \"depart_monthday\": \"03-26\", \"prop_sales\": 0.470198675496691, \"group_treatment\": 0, \"self_treatment\": 0, \"treatment_in_period\": 0}, {\"train_id\": \"ALICANTEMADRID2020-03-26 07:14:002020-03-26 09:35:00\", \"trend\": 34, \"mean_econ_price\": 44.4, \"max_econ_seats\": 240.0, \"min_econ_seats\": 236.0, \"mean_econ_seats\": 238.16666666666663, \"depart_month\": 3, \"depart_day\": 26, \"depart_hour\": 7, \"insert_date\": \"2020-03-11\", \"departure\": \"2020-03-26 07:14:00\", \"origin\": \"ALICANTE\", \"destination\": \"MADRID\", \"price_change\": -0.0024999999999977, \"price_change_percentage\": -0.0, \"price_change_direction\": 0, \"price_increase\": false, \"price_decrease\": false, \"seats_sold\": 1.4166666666666572, \"depart_monthday\": \"03-26\", \"prop_sales\": 0.6938775510204067, \"group_treatment\": 0, \"self_treatment\": 0, \"treatment_in_period\": 0}, {\"train_id\": \"ALICANTEMADRID2020-03-26 08:34:002020-03-26 11:10:00\", \"trend\": 34, \"mean_econ_price\": 39.1, \"max_econ_seats\": 16.0, \"min_econ_seats\": 16.0, \"mean_econ_seats\": 16.0, \"depart_month\": 3, \"depart_day\": 26, \"depart_hour\": 8, \"insert_date\": \"2020-03-11\", \"departure\": \"2020-03-26 08:34:00\", \"origin\": \"ALICANTE\", \"destination\": \"MADRID\", \"price_change\": 0.0, \"price_change_percentage\": 0.0, \"price_change_direction\": 0, \"price_increase\": false, \"price_decrease\": false, \"seats_sold\": 0.25, \"depart_monthday\": \"03-26\", \"prop_sales\": 0.1224489795918373, \"group_treatment\": 0, \"self_treatment\": 0, \"treatment_in_period\": 0}, {\"train_id\": \"ALICANTEMADRID2020-03-26 09:40:002020-03-26 12:11:00\", \"trend\": 34, \"mean_econ_price\": 39.1, \"max_econ_seats\": 194.0, \"min_econ_seats\": 194.0, \"mean_econ_seats\": 194.0, \"depart_month\": 3, \"depart_day\": 26, \"depart_hour\": 9, \"insert_date\": \"2020-03-11\", \"departure\": \"2020-03-26 09:40:00\", \"origin\": \"ALICANTE\", \"destination\": \"MADRID\", \"price_change\": -0.0024999999999977, \"price_change_percentage\": -0.0, \"price_change_direction\": 0, \"price_increase\": false, \"price_decrease\": false, \"seats_sold\": 0.375, \"depart_monthday\": \"03-26\", \"prop_sales\": 0.18367346938775594, \"group_treatment\": 0, \"self_treatment\": 0, \"treatment_in_period\": 0}, {\"train_id\": \"ALICANTEMADRID2020-03-26 07:14:002020-03-26 09:35:00\", \"trend\": 35, \"mean_econ_price\": 44.4, \"max_econ_seats\": 241.0, \"min_econ_seats\": 241.0, \"mean_econ_seats\": 241.0, \"depart_month\": 3, \"depart_day\": 26, \"depart_hour\": 7, \"insert_date\": \"2020-03-12\", \"departure\": \"2020-03-26 07:14:00\", \"origin\": \"ALICANTE\", \"destination\": \"MADRID\", \"price_change\": 0.0, \"price_change_percentage\": 0.0, \"price_change_direction\": 0, \"price_increase\": false, \"price_decrease\": false, \"seats_sold\": 2.833333333333343, \"depart_monthday\": \"03-26\", \"prop_sales\": 0.5483870967741964, \"group_treatment\": 0, \"self_treatment\": 0, \"treatment_in_period\": 0}, {\"train_id\": \"ALICANTEMADRID2020-03-26 08:34:002020-03-26 11:10:00\", \"trend\": 35, \"mean_econ_price\": 39.1, \"max_econ_seats\": 19.0, \"min_econ_seats\": 16.0, \"mean_econ_seats\": 223.16666666666663, \"depart_month\": 3, \"depart_day\": 26, \"depart_hour\": 8, \"insert_date\": \"2020-03-12\", \"departure\": \"2020-03-26 08:34:00\", \"origin\": \"ALICANTE\", \"destination\": \"MADRID\", \"price_change\": 0.0, \"price_change_percentage\": 0.0, \"price_change_direction\": 0, \"price_increase\": false, \"price_decrease\": false, \"seats_sold\": 1.1666666666666572, \"depart_monthday\": \"03-26\", \"prop_sales\": 0.2258064516129018, \"group_treatment\": 0, \"self_treatment\": 0, \"treatment_in_period\": 0}, {\"train_id\": \"ALICANTEMADRID2020-03-26 09:40:002020-03-26 12:11:00\", \"trend\": 35, \"mean_econ_price\": 39.1, \"max_econ_seats\": 197.0, \"min_econ_seats\": 194.0, \"mean_econ_seats\": 195.16666666666663, \"depart_month\": 3, \"depart_day\": 26, \"depart_hour\": 9, \"insert_date\": \"2020-03-12\", \"departure\": \"2020-03-26 09:40:00\", \"origin\": \"ALICANTE\", \"destination\": \"MADRID\", \"price_change\": 0.0, \"price_change_percentage\": 0.0, \"price_change_direction\": 0, \"price_increase\": false, \"price_decrease\": false, \"seats_sold\": 1.1666666666666572, \"depart_monthday\": \"03-26\", \"prop_sales\": 0.2258064516129018, \"group_treatment\": 0, \"self_treatment\": 0, \"treatment_in_period\": 0}, {\"train_id\": \"ALICANTEMADRID2020-03-26 07:14:002020-03-26 09:35:00\", \"trend\": 36, \"mean_econ_price\": 44.415, \"max_econ_seats\": 241.0, \"min_econ_seats\": 240.0, \"mean_econ_seats\": 240.5, \"depart_month\": 3, \"depart_day\": 26, \"depart_hour\": 7, \"insert_date\": \"2020-03-13\", \"departure\": \"2020-03-26 07:14:00\", \"origin\": \"ALICANTE\", \"destination\": \"MADRID\", \"price_change\": 0.0150000000000005, \"price_change_percentage\": 0.0, \"price_change_direction\": 0, \"price_increase\": false, \"price_decrease\": false, \"seats_sold\": 0.5, \"depart_monthday\": \"03-26\", \"prop_sales\": 0.10344827586206876, \"group_treatment\": 0, \"self_treatment\": 0, \"treatment_in_period\": 0}, {\"train_id\": \"ALICANTEMADRID2020-03-26 08:34:002020-03-26 11:10:00\", \"trend\": 36, \"mean_econ_price\": 39.1, \"max_econ_seats\": 19.0, \"min_econ_seats\": 19.0, \"mean_econ_seats\": 19.0, \"depart_month\": 3, \"depart_day\": 26, \"depart_hour\": 8, \"insert_date\": \"2020-03-13\", \"departure\": \"2020-03-26 08:34:00\", \"origin\": \"ALICANTE\", \"destination\": \"MADRID\", \"price_change\": 0.0, \"price_change_percentage\": 0.0, \"price_change_direction\": 0, \"price_increase\": false, \"price_decrease\": false, \"seats_sold\": 1.8333333333333428, \"depart_monthday\": \"03-26\", \"prop_sales\": 0.3793103448275874, \"group_treatment\": 0, \"self_treatment\": 0, \"treatment_in_period\": 0}, {\"train_id\": \"ALICANTEMADRID2020-03-26 09:40:002020-03-26 12:11:00\", \"trend\": 36, \"mean_econ_price\": 39.1, \"max_econ_seats\": 199.0, \"min_econ_seats\": 197.0, \"mean_econ_seats\": 197.66666666666663, \"depart_month\": 3, \"depart_day\": 26, \"depart_hour\": 9, \"insert_date\": \"2020-03-13\", \"departure\": \"2020-03-26 09:40:00\", \"origin\": \"ALICANTE\", \"destination\": \"MADRID\", \"price_change\": 0.0, \"price_change_percentage\": 0.0, \"price_change_direction\": 0, \"price_increase\": false, \"price_decrease\": false, \"seats_sold\": 2.5, \"depart_monthday\": \"03-26\", \"prop_sales\": 0.5172413793103439, \"group_treatment\": 0, \"self_treatment\": 0, \"treatment_in_period\": 0}, {\"train_id\": \"ALICANTEMADRID2020-03-26 07:14:002020-03-26 09:35:00\", \"trend\": 37, \"mean_econ_price\": 44.4, \"max_econ_seats\": 241.0, \"min_econ_seats\": 241.0, \"mean_econ_seats\": 241.0, \"depart_month\": 3, \"depart_day\": 26, \"depart_hour\": 7, \"insert_date\": \"2020-03-14\", \"departure\": \"2020-03-26 07:14:00\", \"origin\": \"ALICANTE\", \"destination\": \"MADRID\", \"price_change\": -0.0150000000000005, \"price_change_percentage\": -0.0, \"price_change_direction\": 0, \"price_increase\": false, \"price_decrease\": false, \"seats_sold\": 0.5, \"depart_monthday\": \"03-26\", \"prop_sales\": 0.21951219512194908, \"group_treatment\": 0, \"self_treatment\": 0, \"treatment_in_period\": 0}, {\"train_id\": \"ALICANTEMADRID2020-03-26 08:34:002020-03-26 11:10:00\", \"trend\": 37, \"mean_econ_price\": 39.1, \"max_econ_seats\": 20.0, \"min_econ_seats\": 19.0, \"mean_econ_seats\": 225.44444444444449, \"depart_month\": 3, \"depart_day\": 26, \"depart_hour\": 8, \"insert_date\": \"2020-03-14\", \"departure\": \"2020-03-26 08:34:00\", \"origin\": \"ALICANTE\", \"destination\": \"MADRID\", \"price_change\": 0.0, \"price_change_percentage\": 0.0, \"price_change_direction\": 0, \"price_increase\": false, \"price_decrease\": false, \"seats_sold\": 0.4444444444444571, \"depart_monthday\": \"03-26\", \"prop_sales\": 0.19512195121951584, \"group_treatment\": 0, \"self_treatment\": 0, \"treatment_in_period\": 0}, {\"train_id\": \"ALICANTEMADRID2020-03-26 09:40:002020-03-26 12:11:00\", \"trend\": 37, \"mean_econ_price\": 39.1, \"max_econ_seats\": 199.0, \"min_econ_seats\": 199.0, \"mean_econ_seats\": 199.0, \"depart_month\": 3, \"depart_day\": 26, \"depart_hour\": 9, \"insert_date\": \"2020-03-14\", \"departure\": \"2020-03-26 09:40:00\", \"origin\": \"ALICANTE\", \"destination\": \"MADRID\", \"price_change\": 0.0, \"price_change_percentage\": 0.0, \"price_change_direction\": 0, \"price_increase\": false, \"price_decrease\": false, \"seats_sold\": 1.3333333333333428, \"depart_monthday\": \"03-26\", \"prop_sales\": 0.5853658536585351, \"group_treatment\": 0, \"self_treatment\": 0, \"treatment_in_period\": 0}]}}, {\"mode\": \"vega-lite\"});\n",
       "</script>"
      ],
      "text/plain": [
       "alt.HConcatChart(...)"
      ]
     },
     "execution_count": 48,
     "metadata": {},
     "output_type": "execute_result"
    }
   ],
   "source": [
    "price_evolution | seat_line_evolution"
   ]
  },
  {
   "cell_type": "code",
   "execution_count": 49,
   "id": "13709e43",
   "metadata": {},
   "outputs": [],
   "source": [
    "def diff(li1, li2):\n",
    "    return list(set(li1) - set(li2)) + list(set(li2) - set(li1))"
   ]
  },
  {
   "cell_type": "code",
   "execution_count": 50,
   "id": "bd6a34e3",
   "metadata": {},
   "outputs": [],
   "source": [
    "def define_treatment_intervals(df):\n",
    "\n",
    "    self = df.index[df[\"self_treatment\"] == 1].tolist()\n",
    "    csoport = df.index[df[\"group_treatment\"] == 1].tolist()\n",
    "    last_index = df.index[-1]\n",
    "\n",
    "    origin_only_group_treatment = diff(self, csoport)\n",
    "    only_group_treatment_list = diff(self, csoport)\n",
    "    # diff után, listába rakom a dolgokat\n",
    "    self_treatment_list = list(self)\n",
    "\n",
    "    # végigiterálok mindkettő dolgon\n",
    "    for i in range(len(self_treatment_list)):\n",
    "        for x in range(len(only_group_treatment_list)):\n",
    "            try:\n",
    "                # belerakom azt amelyik ketté közé esik\n",
    "                if (\n",
    "                    self_treatment_list[i] > only_group_treatment_list[x]\n",
    "                    and self_treatment_list[i] < only_group_treatment_list[x + 1]\n",
    "                ):\n",
    "                    only_group_treatment_list.append(self_treatment_list[i])\n",
    "            except IndexError:\n",
    "                pass\n",
    "            # belerakom az utolsót, indexerror miatt kiesne\n",
    "            if self_treatment_list[i] > only_group_treatment_list[-1]:\n",
    "                only_group_treatment_list.append(self_treatment_list[i])\n",
    "\n",
    "    x_teljes = diff(only_group_treatment_list, origin_only_group_treatment) + list(\n",
    "        set(origin_only_group_treatment)\n",
    "    )\n",
    "    x1 = diff(only_group_treatment_list, origin_only_group_treatment)\n",
    "    x2 = list(set(origin_only_group_treatment))\n",
    "    x_teljes.sort()\n",
    "    list_final = []\n",
    "    for x in range(len(x_teljes)):\n",
    "        try:\n",
    "            if x_teljes[x] in x1:\n",
    "                pass\n",
    "            # elif (x_teljes[x] in x2) and (x_teljes[x+1] in x2):\n",
    "            #    pass\n",
    "            elif (x_teljes[x] in x1) and (x_teljes[x + 1] in x1):\n",
    "                pass\n",
    "            else:\n",
    "                list_final.append(range(x_teljes[x], x_teljes[x + 1]))\n",
    "        except IndexError:\n",
    "            # print(\"we are on the last index\")\n",
    "            list_final.append(range(x_teljes[x], last_index + 1))\n",
    "    return list_final"
   ]
  },
  {
   "cell_type": "code",
   "execution_count": 52,
   "id": "5b69e3aa",
   "metadata": {},
   "outputs": [],
   "source": [
    "def change_treatment_variable(dataframe):\n",
    "    list_of_3_dfs = []\n",
    "    for train in list(dataframe[\"train_id\"].unique()):\n",
    "        df_train = dataframe.loc[lambda _df: _df[\"train_id\"] == train, :].reset_index()\n",
    "        for ranges in range(len(define_treatment_intervals(df_train))):\n",
    "            df_train.loc[\n",
    "                define_treatment_intervals(df_train)[ranges], \"treatment_in_period\"\n",
    "            ] = 1\n",
    "        list_of_3_dfs.append(df_train)\n",
    "    return pd.concat(list_of_3_dfs)"
   ]
  },
  {
   "cell_type": "code",
   "execution_count": 53,
   "id": "12954a13",
   "metadata": {},
   "outputs": [
    {
     "data": {
      "text/plain": [
       "5353"
      ]
     },
     "execution_count": 53,
     "metadata": {},
     "output_type": "execute_result"
    }
   ],
   "source": [
    "len(df_dict)"
   ]
  },
  {
   "cell_type": "code",
   "execution_count": 54,
   "id": "1f4f9a7f",
   "metadata": {},
   "outputs": [
    {
     "data": {
      "application/vnd.jupyter.widget-view+json": {
       "model_id": "92f7decfbc8842d38a972a0ec3f47b98",
       "version_major": 2,
       "version_minor": 0
      },
      "text/plain": [
       "  0%|          | 0/5353 [00:00<?, ?it/s]"
      ]
     },
     "metadata": {},
     "output_type": "display_data"
    }
   ],
   "source": [
    "df_lista_megint = []\n",
    "for i in tqdm(range(len(df_dict))):\n",
    "    df_dict[i][\"group_treatment\"] = df_dict[i][\"group_treatment\"].replace(\n",
    "        {True: 1, False: 0}\n",
    "    )\n",
    "    df_dict[i][\"self_treatment\"] = df_dict[i][\"self_treatment\"].replace(\n",
    "        {True: 1, False: 0}\n",
    "    )\n",
    "    df_dict[i] = df_dict[i].assign(\n",
    "        treatment_in_period=lambda _df: _df[\"group_treatment\"] + _df[\"self_treatment\"]\n",
    "    )\n",
    "    df_dict[i][\"treatment_in_period\"] = df_dict[i][\"treatment_in_period\"].replace(2, 0)\n",
    "    df_lista_megint.append(change_treatment_variable(df_dict[i]))"
   ]
  },
  {
   "cell_type": "code",
   "execution_count": 55,
   "id": "7a15d021",
   "metadata": {},
   "outputs": [],
   "source": [
    "index_range = range(len(df_lista_megint))\n",
    "\n",
    "df_dict_ver2 = {index : frame for (index, frame) in zip(index_range,df_lista_megint )}"
   ]
  },
  {
   "cell_type": "code",
   "execution_count": 56,
   "id": "310648fd",
   "metadata": {},
   "outputs": [
    {
     "data": {
      "text/plain": [
       "5353"
      ]
     },
     "execution_count": 56,
     "metadata": {},
     "output_type": "execute_result"
    }
   ],
   "source": [
    "len(df_dict_ver2)"
   ]
  },
  {
   "cell_type": "code",
   "execution_count": 57,
   "id": "f6c5226a",
   "metadata": {},
   "outputs": [],
   "source": [
    "import pickle"
   ]
  },
  {
   "cell_type": "code",
   "execution_count": 58,
   "id": "ba5edef1",
   "metadata": {},
   "outputs": [],
   "source": [
    "with open('dict_of_dfs_ver2_full.pickle', 'wb') as f:\n",
    "    pickle.dump(df_dict_ver2, f)"
   ]
  },
  {
   "cell_type": "code",
   "execution_count": null,
   "id": "26215a80",
   "metadata": {},
   "outputs": [],
   "source": []
  }
 ],
 "metadata": {
  "kernelspec": {
   "display_name": "Python 3 (ipykernel)",
   "language": "python",
   "name": "python3"
  },
  "language_info": {
   "codemirror_mode": {
    "name": "ipython",
    "version": 3
   },
   "file_extension": ".py",
   "mimetype": "text/x-python",
   "name": "python",
   "nbconvert_exporter": "python",
   "pygments_lexer": "ipython3",
   "version": "3.10.4"
  }
 },
 "nbformat": 4,
 "nbformat_minor": 5
}
