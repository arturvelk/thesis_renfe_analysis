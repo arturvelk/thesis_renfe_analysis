{
 "cells": [
  {
   "cell_type": "code",
   "execution_count": 1,
   "metadata": {},
   "outputs": [],
   "source": [
    "import pandas as pd\n",
    "import numpy as np\n",
    "import dask.dataframe as dd\n",
    "import sys\n",
    "import datetime\n",
    "import seaborn as sns\n",
    "import matplotlib.pyplot as plt"
   ]
  },
  {
   "cell_type": "code",
   "execution_count": 2,
   "metadata": {
    "scrolled": false
   },
   "outputs": [
    {
     "name": "stdout",
     "output_type": "stream",
     "text": [
      "From 1 million rows, 0 extracted\n",
      "From 2 million rows, 0 extracted\n",
      "From 3 million rows, 0 extracted\n",
      "From 4 million rows, 0 extracted\n",
      "From 5 million rows, 0 extracted\n",
      "From 6 million rows, 0 extracted\n",
      "From 7 million rows, 0 extracted\n",
      "From 8 million rows, 0 extracted\n",
      "From 9 million rows, 0 extracted\n",
      "From 10 million rows, 0 extracted\n",
      "From 11 million rows, 0 extracted\n",
      "From 12 million rows, 0 extracted\n",
      "From 13 million rows, 0 extracted\n",
      "From 14 million rows, 0 extracted\n",
      "From 15 million rows, 0 extracted\n",
      "From 16 million rows, 80191 extracted\n",
      "From 17 million rows, 443573 extracted\n",
      "From 18 million rows, 815303 extracted\n",
      "From 19 million rows, 1188434 extracted\n",
      "From 20 million rows, 1496084 extracted\n",
      "From 21 million rows, 1719920 extracted\n",
      "From 22 million rows, 1984282 extracted\n",
      "From 23 million rows, 2175842 extracted\n",
      "From 24 million rows, 2336046 extracted\n",
      "From 25 million rows, 2480960 extracted\n",
      "From 26 million rows, 2614000 extracted\n",
      "From 27 million rows, 2735204 extracted\n",
      "From 28 million rows, 2776939 extracted\n",
      "From 29 million rows, 2808741 extracted\n",
      "From 30 million rows, 2827567 extracted\n",
      "From 31 million rows, 2836947 extracted\n",
      "From 32 million rows, 2837704 extracted\n",
      "From 33 million rows, 2837704 extracted\n",
      "From 34 million rows, 2837704 extracted\n",
      "From 35 million rows, 2837704 extracted\n",
      "From 36 million rows, 2837704 extracted\n",
      "From 37 million rows, 2837704 extracted\n",
      "From 38 million rows, 2837704 extracted\n",
      "From 39 million rows, 2837704 extracted\n"
     ]
    }
   ],
   "source": [
    "# code for extracting data\n",
    "\n",
    "\n",
    "filename = \"thegurus-opendata-renfe-trips.csv\"\n",
    "\n",
    "price_changed = pd.DataFrame([])\n",
    "count = 0\n",
    "for df in pd.read_csv(filename, iterator=True, chunksize=10 ** 6):\n",
    "    count += 1\n",
    "\n",
    "    df = df.loc[\n",
    "        (df[\"meta\"] != \"{}\")\n",
    "        & (df[\"vehicle_type\"] == \"AVE\")\n",
    "        & (df[\"departure\"] > '2020-03-02 07:30:00')\n",
    "        & (df[\"departure\"] < '2020-03-31 18:45:01')\n",
    "    ]\n",
    "\n",
    "    price_changed = pd.concat([price_changed, df])\n",
    "    print(\n",
    "        \"From {c} million rows, \".format(c=count)\n",
    "        + str(price_changed.shape[0])\n",
    "        + \" extracted\"\n",
    "    )\n",
    "    if price_changed.shape[0] > 3 * (10 ** 6):\n",
    "        break"
   ]
  },
  {
   "cell_type": "code",
   "execution_count": 4,
   "metadata": {},
   "outputs": [
    {
     "data": {
      "text/plain": [
       "(2837704, 14)"
      ]
     },
     "execution_count": 4,
     "metadata": {},
     "output_type": "execute_result"
    }
   ],
   "source": [
    "price_changed.shape"
   ]
  },
  {
   "cell_type": "code",
   "execution_count": 5,
   "metadata": {},
   "outputs": [],
   "source": [
    "price_changed.to_parquet(\"afterextract_data.parquet\")"
   ]
  }
 ],
 "metadata": {
  "kernelspec": {
   "display_name": "Python 3 (ipykernel)",
   "language": "python",
   "name": "python3"
  },
  "language_info": {
   "codemirror_mode": {
    "name": "ipython",
    "version": 3
   },
   "file_extension": ".py",
   "mimetype": "text/x-python",
   "name": "python",
   "nbconvert_exporter": "python",
   "pygments_lexer": "ipython3",
   "version": "3.10.4"
  }
 },
 "nbformat": 4,
 "nbformat_minor": 4
}
